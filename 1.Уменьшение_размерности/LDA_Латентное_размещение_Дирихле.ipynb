{
  "nbformat": 4,
  "nbformat_minor": 0,
  "metadata": {
    "colab": {
      "name": "LDA.ipynb",
      "provenance": [],
      "collapsed_sections": []
    },
    "kernelspec": {
      "name": "python3",
      "display_name": "Python 3"
    },
    "language_info": {
      "name": "python"
    }
  },
  "cells": [
    {
      "cell_type": "markdown",
      "source": [
        "**LDA - Латентное размещение Дирихле**"
      ],
      "metadata": {
        "id": "aD_Rf5hpCmeX"
      }
    },
    {
      "cell_type": "markdown",
      "source": [
        "**LDA** принадлежит семейству порождающих вероятностных моделей, в которых темы представлены вероятностями появления каждого слова из заданного набора. Документы в свою очередь могут быть представлены как сочетания тем. Уникальная особенность моделей LDA состоит в том что темы не обязательно должны быть различными и слова могут встречаться в нескольких темах; это придает некоторую нечеткость определяемым темам, что может пригодиться для совладения с гибкостью языка. \n",
        "\n",
        "В LDA каждый документ может рассматриваться как набор различных тематик. Подобный подход схож с вероятностным латентно-семантическим анализом (pLSA) с той разницей, что в LDA предполагается, что распределение тематик имеет в качестве априори распределения Дирихле. \n",
        "\n"
      ],
      "metadata": {
        "id": "gKusXNXsCua9"
      }
    },
    {
      "cell_type": "markdown",
      "source": [
        "**Постановка задачи**\n",
        "\n",
        "Построить модель набора тематик из текстов научно-исследовательских работ с конференции NeurIPS (Конференция по машинному обучению и нейровычислениям).\n"
      ],
      "metadata": {
        "id": "EbwIM-eXCxpH"
      }
    },
    {
      "cell_type": "markdown",
      "source": [
        "**Описание структуры исходных данных**\n",
        "\n",
        "Исходные данные представляют собой тексты рукописных научно-исследовательских работ участников конференции, переведенные в цифровой формат с помощью технологии OCR $-$ оптического распознавания символов. Из-за этого в данных могут быть ошибки в словах и пропущенные буквы, что затрудняет задачу построения модели.\n"
      ],
      "metadata": {
        "id": "xPNT1m-BCz_v"
      }
    },
    {
      "cell_type": "markdown",
      "source": [
        "**Описание используемых функций и их параметров**\n",
        "\n",
        "normalize_corpus() - функция предварительной обработки данных.\n",
        "> - papers - исходные данные для обработки\n",
        "\n",
        "gensim.models.Phrases() - автоматически находит общие фразы из потока предложений.\n",
        "> - norm_papers - обработанные данные\n",
        "> - min_count - минимальное необходимое количество фраз для темы\n",
        "> - threshold - порог длины фразы\n",
        "> - delimiter=b'_'- разделитель _ между фразой, состоящей из нескольких слов\n",
        "\n",
        "\n",
        "gensim.models.LdaModel() - строит модель Латентного размещения Дирихле.\n",
        "> - corpus - поток векторов документов (данных) \n",
        "> - id2word - отображение ID-слов к словам\n",
        "> - chunksize - количество документов \n",
        "> - alpha - скаляр размещения Дирихле \n",
        "> - eta - скаляр размещения Дирихле \n",
        "> - random_state - значение случаной последовательности\n",
        "> - iterations - количество итераций\n",
        "> - num_topics - количество запрашиваемых латентных тематик\n",
        "> - passes - количество прохождений по потоку во время тренировки модели\n",
        "\n",
        "gensim.models.wrappers.LdaMallet() - строит модель Латентного размещения Дирихле с использованием фреймворка MALLET.\n",
        "> - mallet_path - путь к MALLET\n",
        "> - corpus - поток векторов документов (данных) \n",
        "> - num_topics  - количество запрашиваемых латентных тематик \n",
        "> - id2word - отображение ID-слов к словам\n",
        "> - iterations - количество итераций\n",
        "> - workers - количество потоков для работы\n",
        "\n",
        "topic_model_coherence_generator() - генератор связности модели.\n",
        "> - corpus - поток векторов документов (данных)  \n",
        "> - texts - тесты документов\n",
        "> - dictionary - словарь\n",
        "> - start_topic_count - номер начала количества тематик \n",
        "> - end_topic_count - номер конца количества тематик  \n",
        "> - step - шаг\n",
        "> - cpus - количество используемых CPU"
      ],
      "metadata": {
        "id": "kD90iq2_C2bm"
      }
    },
    {
      "cell_type": "markdown",
      "source": [
        "**Решение задачи**\n",
        "\n",
        "Скачиваем исходные данные и подключаем библиотеки для работы."
      ],
      "metadata": {
        "id": "eBeoYGYFC4lA"
      }
    },
    {
      "cell_type": "code",
      "source": [
        "!wget https://cs.nyu.edu/~roweis/data/nips12raw_str602.tgz\n",
        "!tar -xzf nips12raw_str602.tgz"
      ],
      "metadata": {
        "colab": {
          "base_uri": "https://localhost:8080/"
        },
        "id": "N2mGHyHGXqN3",
        "outputId": "b361d706-dd3b-43f1-85c4-3e1d0e17f984"
      },
      "execution_count": null,
      "outputs": [
        {
          "output_type": "stream",
          "name": "stdout",
          "text": [
            "--2022-05-31 04:27:47--  https://cs.nyu.edu/~roweis/data/nips12raw_str602.tgz\n",
            "Resolving cs.nyu.edu (cs.nyu.edu)... 216.165.22.203\n",
            "Connecting to cs.nyu.edu (cs.nyu.edu)|216.165.22.203|:443... connected.\n",
            "HTTP request sent, awaiting response... 200 OK\n",
            "Length: 12851423 (12M) [application/x-gzip]\n",
            "Saving to: ‘nips12raw_str602.tgz’\n",
            "\n",
            "nips12raw_str602.tg 100%[===================>]  12.26M  18.9MB/s    in 0.6s    \n",
            "\n",
            "2022-05-31 04:27:47 (18.9 MB/s) - ‘nips12raw_str602.tgz’ saved [12851423/12851423]\n",
            "\n"
          ]
        }
      ]
    },
    {
      "cell_type": "code",
      "source": [
        "!pip install tqdm\n",
        "import nltk\n",
        "nltk.download('punkt')\n",
        "nltk.download('stopwords')\n",
        "nltk.download('wordnet')"
      ],
      "metadata": {
        "colab": {
          "base_uri": "https://localhost:8080/"
        },
        "id": "0uvTfiK9Xttw",
        "outputId": "27f04c97-a1bc-40dc-9e1a-f7af1cd89ad7"
      },
      "execution_count": null,
      "outputs": [
        {
          "output_type": "stream",
          "name": "stdout",
          "text": [
            "Looking in indexes: https://pypi.org/simple, https://us-python.pkg.dev/colab-wheels/public/simple/\n",
            "Requirement already satisfied: tqdm in /usr/local/lib/python3.7/dist-packages (4.64.0)\n",
            "[nltk_data] Downloading package punkt to /root/nltk_data...\n",
            "[nltk_data]   Unzipping tokenizers/punkt.zip.\n",
            "[nltk_data] Downloading package stopwords to /root/nltk_data...\n",
            "[nltk_data]   Unzipping corpora/stopwords.zip.\n",
            "[nltk_data] Downloading package wordnet to /root/nltk_data...\n",
            "[nltk_data]   Unzipping corpora/wordnet.zip.\n"
          ]
        },
        {
          "output_type": "execute_result",
          "data": {
            "text/plain": [
              "True"
            ]
          },
          "metadata": {},
          "execution_count": 5
        }
      ]
    },
    {
      "cell_type": "code",
      "source": [
        "import os\n",
        "import numpy as np\n",
        "import pandas as pd\n",
        "\n",
        "DATA_PATH = 'nipstxt/'"
      ],
      "metadata": {
        "id": "MN7kWnS9XxBA"
      },
      "execution_count": null,
      "outputs": []
    },
    {
      "cell_type": "markdown",
      "source": [
        "Загружаем данные в список."
      ],
      "metadata": {
        "id": "TKnd7ghdlSeg"
      }
    },
    {
      "cell_type": "code",
      "source": [
        "folders = [\"nips{0:02}\".format(i) for i in range(0,13)]\n",
        "papers = []\n",
        "for folder in folders:\n",
        "    file_names = os.listdir(DATA_PATH + folder)\n",
        "    for file_name in file_names:\n",
        "        with open(DATA_PATH + folder + '/' + file_name, encoding='utf-8', errors='ignore', mode='r+') as f:\n",
        "            data = f.read()\n",
        "        papers.append(data)"
      ],
      "metadata": {
        "id": "p-Y1unzGXeh_"
      },
      "execution_count": null,
      "outputs": []
    },
    {
      "cell_type": "markdown",
      "source": [
        "Выполним предварительную обработку данных."
      ],
      "metadata": {
        "id": "dFAgtBbdl2Nn"
      }
    },
    {
      "cell_type": "code",
      "source": [
        "%%time\n",
        "import nltk\n",
        "import tqdm\n",
        "#Выставляем стоп-слова для Английского языка\n",
        "stop_words = nltk.corpus.stopwords.words('english')\n",
        "#Разделяем строку на подстроки\n",
        "wtk = nltk.tokenize.RegexpTokenizer(r'\\w+')\n",
        "wnl = nltk.stem.wordnet.WordNetLemmatizer()\n",
        "\n",
        "def normalize_corpus(papers):\n",
        "    norm_papers = []\n",
        "    for paper in tqdm.tqdm(papers):\n",
        "      #Переводим данные в нижний регистр и разделяем на токены (отдельные слова)\n",
        "        paper = paper.lower()\n",
        "        paper_tokens = [token.strip() for token in wtk.tokenize(paper)]\n",
        "        paper_tokens = [wnl.lemmatize(token) for token in paper_tokens if not token.isnumeric()]\n",
        "        paper_tokens = [token for token in paper_tokens if len(token) > 1]\n",
        "        paper_tokens = [token for token in paper_tokens if token not in stop_words]\n",
        "        paper_tokens = list(filter(None, paper_tokens))\n",
        "        if paper_tokens:\n",
        "            norm_papers.append(paper_tokens)\n",
        "            \n",
        "    return norm_papers\n",
        "    \n",
        "norm_papers = normalize_corpus(papers)\n",
        "print(len(norm_papers))"
      ],
      "metadata": {
        "colab": {
          "base_uri": "https://localhost:8080/"
        },
        "id": "ucuekzSJX78A",
        "outputId": "a354bd60-f597-46a7-869c-52fb9ed2b220"
      },
      "execution_count": null,
      "outputs": [
        {
          "output_type": "stream",
          "name": "stderr",
          "text": [
            "100%|██████████| 1740/1740 [00:38<00:00, 45.46it/s]"
          ]
        },
        {
          "output_type": "stream",
          "name": "stdout",
          "text": [
            "1740\n",
            "CPU times: user 36.5 s, sys: 476 ms, total: 37 s\n",
            "Wall time: 38.3 s\n"
          ]
        },
        {
          "output_type": "stream",
          "name": "stderr",
          "text": [
            "\n"
          ]
        }
      ]
    },
    {
      "cell_type": "markdown",
      "source": [
        "Построим фразовую биграмму на исходных данных, чтобы удалить ненужные термины. Начнем с доставания и генерации слов и биграмм в качестве фраз для каждой разбитой на токены научно-исследовательской работы.\n"
      ],
      "metadata": {
        "id": "PuGkLEoRoXdh"
      }
    },
    {
      "cell_type": "code",
      "source": [
        "import gensim\n",
        "\n",
        "bigram = gensim.models.Phrases(norm_papers, min_count=20, threshold=20, delimiter=b'_') #Чем больше порог, тем меньше фраз мы получим.\n",
        "bigram_model = gensim.models.phrases.Phraser(bigram)\n",
        "\n",
        "print(bigram_model[norm_papers[0]][:50])"
      ],
      "metadata": {
        "colab": {
          "base_uri": "https://localhost:8080/"
        },
        "id": "ZRLtj7c9YHh_",
        "outputId": "4d8a3016-d0d9-4bb5-9fe4-c8c1a24ae4b8"
      },
      "execution_count": null,
      "outputs": [
        {
          "output_type": "stream",
          "name": "stdout",
          "text": [
            "['stability', 'result', 'neural_network', 'michel', 'farrell', 'porod', 'department_electrical', 'computer_engineering', 'university', 'notre', 'dame', 'notre', 'dame', 'abstract_present', 'paper', 'survey', 'mad', 'utilize', 'result', 'qualitative', 'theory', 'large_scale', 'interconnected', 'dynamical_system', 'order', 'develop', 'qualitative', 'theory', 'hop_field', 'model', 'neural_network', 'approach', 'view', 'network', 'inter', 'connection', 'many', 'single', 'neuron', 'result', 'phrased', 'term', 'qualitative', 'property', 'individual', 'neuron', 'term', 'property', 'interconnecting', 'structure']\n"
          ]
        }
      ]
    },
    {
      "cell_type": "markdown",
      "source": [
        "Создадим словарь, как представление всех документов."
      ],
      "metadata": {
        "id": "dHEfl4lvpgBY"
      }
    },
    {
      "cell_type": "code",
      "source": [
        "norm_corpus_bigrams = [bigram_model[doc] for doc in norm_papers]\n",
        "\n",
        "dictionary = gensim.corpora.Dictionary(norm_corpus_bigrams)\n",
        "print('Sample word to number mappings:', list(dictionary.items())[:15])\n",
        "print('Total Vocabulary Size:', len(dictionary))"
      ],
      "metadata": {
        "colab": {
          "base_uri": "https://localhost:8080/"
        },
        "id": "iPi1ByV-YPCY",
        "outputId": "857506f0-ee3b-427b-e9ef-432a8477a4fc"
      },
      "execution_count": null,
      "outputs": [
        {
          "output_type": "stream",
          "name": "stdout",
          "text": [
            "Sample word to number mappings: [(0, '2the'), (1, '2xi'), (2, '__1'), (3, '_aii'), (4, '_bl'), (5, '_k_'), (6, '_o'), (7, '_to'), (8, 'aaalysis'), (9, 'able'), (10, 'abstract_present'), (11, 'acad_sci'), (12, 'academic_press'), (13, 'accomplish'), (14, 'achieve')]\n",
            "Total Vocabulary Size: 78892\n"
          ]
        }
      ]
    },
    {
      "cell_type": "markdown",
      "source": [
        "Как можно увидеть выше, количество фраз составляет чуть больше 78 тысяч. Так как многие из этих фраз являются специфичными для одной работы или даже для одного параграфа, просеем словарь: уберем слова, появляющиеся менее чем в 20 документах и более чем в 60% документах."
      ],
      "metadata": {
        "id": "CjdMisjHpxHb"
      }
    },
    {
      "cell_type": "code",
      "source": [
        "dictionary.filter_extremes(no_below=20, no_above=0.6)\n",
        "print('Total Vocabulary Size:', len(dictionary))"
      ],
      "metadata": {
        "colab": {
          "base_uri": "https://localhost:8080/"
        },
        "id": "zWdG8Q9VYYeP",
        "outputId": "f6dae233-54d4-4dca-9309-bfd561e76f30"
      },
      "execution_count": null,
      "outputs": [
        {
          "output_type": "stream",
          "name": "stdout",
          "text": [
            "Total Vocabulary Size: 7756\n"
          ]
        }
      ]
    },
    {
      "cell_type": "markdown",
      "source": [
        "Благодаря этому сокращению словаря, мы сможем найти различные темы и тематики, а не повторяющиеся. Переведем нашу структуру данных в векторное представление модели \"Мешок слов\". (Bag-of-words model)"
      ],
      "metadata": {
        "id": "qrhAHBGcrNfE"
      }
    },
    {
      "cell_type": "code",
      "source": [
        "bow_corpus = [dictionary.doc2bow(text) for text in norm_corpus_bigrams]"
      ],
      "metadata": {
        "id": "o9dTAsBdYemf"
      },
      "execution_count": null,
      "outputs": []
    },
    {
      "cell_type": "markdown",
      "source": [
        "**Визуализация результата**"
      ],
      "metadata": {
        "id": "qfB3Db9asSfs"
      }
    },
    {
      "cell_type": "markdown",
      "source": [
        "Построим модель латентного размещения Дирихле:"
      ],
      "metadata": {
        "id": "CwKK8edRsZHE"
      }
    },
    {
      "cell_type": "code",
      "source": [
        "%%time\n",
        "\n",
        "lda_model = gensim.models.LdaModel(corpus=bow_corpus, id2word=dictionary, chunksize=1740, \n",
        "                                   alpha='auto', eta='auto', random_state=42,\n",
        "                                   iterations=500, num_topics=10, \n",
        "                                   passes=20, eval_every=None)"
      ],
      "metadata": {
        "colab": {
          "base_uri": "https://localhost:8080/"
        },
        "id": "O_izjY18Yw9B",
        "outputId": "8c377851-1c1a-47fd-f671-029b4545c3c4"
      },
      "execution_count": null,
      "outputs": [
        {
          "output_type": "stream",
          "name": "stdout",
          "text": [
            "CPU times: user 1min 34s, sys: 2.56 s, total: 1min 36s\n",
            "Wall time: 1min 34s\n"
          ]
        }
      ]
    },
    {
      "cell_type": "markdown",
      "source": [
        "Посмотрим на двадцать фраз каждой из десяти тематик:"
      ],
      "metadata": {
        "id": "5FjfhNWg2maN"
      }
    },
    {
      "cell_type": "code",
      "source": [
        "for topic_id, topic in lda_model.print_topics(num_topics=10, num_words=20):\n",
        "    print('Topic #'+str(topic_id+1)+':')\n",
        "    print(topic)\n",
        "    print()"
      ],
      "metadata": {
        "colab": {
          "base_uri": "https://localhost:8080/"
        },
        "id": "kmfcdcu1dNVE",
        "outputId": "664c4241-7c8b-4a5f-8855-1a19feb7529f"
      },
      "execution_count": null,
      "outputs": [
        {
          "output_type": "stream",
          "name": "stdout",
          "text": [
            "Topic #1:\n",
            "0.013*\"circuit\" + 0.012*\"neuron\" + 0.011*\"chip\" + 0.008*\"analog\" + 0.007*\"current\" + 0.007*\"state\" + 0.006*\"voltage\" + 0.005*\"memory\" + 0.005*\"vector\" + 0.005*\"bit\" + 0.004*\"dynamic\" + 0.004*\"connection\" + 0.004*\"signal\" + 0.004*\"implementation\" + 0.004*\"equation\" + 0.004*\"neural\" + 0.004*\"pattern\" + 0.004*\"design\" + 0.004*\"matrix\" + 0.003*\"element\"\n",
            "\n",
            "Topic #2:\n",
            "0.009*\"training\" + 0.008*\"noise\" + 0.006*\"equation\" + 0.006*\"prediction\" + 0.006*\"vector\" + 0.006*\"linear\" + 0.005*\"rate\" + 0.005*\"nonlinear\" + 0.005*\"signal\" + 0.004*\"gradient\" + 0.004*\"dynamic\" + 0.004*\"matrix\" + 0.004*\"convergence\" + 0.004*\"estimate\" + 0.004*\"optimal\" + 0.004*\"unit\" + 0.003*\"variance\" + 0.003*\"step\" + 0.003*\"distribution\" + 0.003*\"solution\"\n",
            "\n",
            "Topic #3:\n",
            "0.013*\"training\" + 0.008*\"classifier\" + 0.008*\"node\" + 0.007*\"pattern\" + 0.005*\"tree\" + 0.005*\"task\" + 0.005*\"feature\" + 0.004*\"unit\" + 0.004*\"training_set\" + 0.004*\"net\" + 0.004*\"classification\" + 0.004*\"size\" + 0.004*\"class\" + 0.004*\"test\" + 0.003*\"hidden_unit\" + 0.003*\"vector\" + 0.003*\"trained\" + 0.003*\"table\" + 0.003*\"search\" + 0.003*\"experiment\"\n",
            "\n",
            "Topic #4:\n",
            "0.035*\"image\" + 0.012*\"object\" + 0.011*\"feature\" + 0.008*\"pixel\" + 0.006*\"face\" + 0.005*\"view\" + 0.005*\"region\" + 0.004*\"representation\" + 0.004*\"visual\" + 0.004*\"recognition\" + 0.004*\"task\" + 0.003*\"local\" + 0.003*\"shape\" + 0.003*\"level\" + 0.003*\"surface\" + 0.003*\"location\" + 0.003*\"scene\" + 0.003*\"scale\" + 0.003*\"position\" + 0.003*\"edge\"\n",
            "\n",
            "Topic #5:\n",
            "0.015*\"unit\" + 0.011*\"training\" + 0.009*\"word\" + 0.007*\"recognition\" + 0.007*\"rule\" + 0.007*\"sequence\" + 0.006*\"state\" + 0.006*\"pattern\" + 0.005*\"task\" + 0.005*\"speech\" + 0.005*\"trained\" + 0.005*\"layer\" + 0.005*\"architecture\" + 0.004*\"representation\" + 0.004*\"context\" + 0.004*\"class\" + 0.004*\"feature\" + 0.004*\"structure\" + 0.004*\"net\" + 0.004*\"hidden_unit\"\n",
            "\n",
            "Topic #6:\n",
            "0.011*\"vector\" + 0.006*\"matrix\" + 0.006*\"feature\" + 0.006*\"cluster\" + 0.006*\"image\" + 0.005*\"transformation\" + 0.005*\"distribution\" + 0.005*\"clustering\" + 0.005*\"component\" + 0.004*\"gaussian\" + 0.004*\"linear\" + 0.004*\"distance\" + 0.004*\"structure\" + 0.004*\"mixture\" + 0.004*\"variable\" + 0.004*\"class\" + 0.003*\"solution\" + 0.003*\"pca\" + 0.003*\"pattern\" + 0.003*\"representation\"\n",
            "\n",
            "Topic #7:\n",
            "0.016*\"cell\" + 0.011*\"response\" + 0.010*\"stimulus\" + 0.008*\"visual\" + 0.008*\"unit\" + 0.007*\"signal\" + 0.006*\"neuron\" + 0.006*\"motion\" + 0.006*\"activity\" + 0.005*\"layer\" + 0.005*\"map\" + 0.005*\"pattern\" + 0.004*\"direction\" + 0.004*\"spatial\" + 0.004*\"receptive_field\" + 0.004*\"frequency\" + 0.004*\"cortical\" + 0.004*\"orientation\" + 0.004*\"eye\" + 0.003*\"filter\"\n",
            "\n",
            "Topic #8:\n",
            "0.008*\"probability\" + 0.008*\"distribution\" + 0.007*\"class\" + 0.006*\"approximation\" + 0.005*\"variable\" + 0.005*\"let\" + 0.005*\"bound\" + 0.004*\"estimate\" + 0.004*\"sample\" + 0.004*\"prior\" + 0.004*\"theorem\" + 0.004*\"bayesian\" + 0.004*\"log\" + 0.004*\"kernel\" + 0.003*\"theory\" + 0.003*\"linear\" + 0.003*\"size\" + 0.003*\"vector\" + 0.003*\"training\" + 0.003*\"consider\"\n",
            "\n",
            "Topic #9:\n",
            "0.030*\"neuron\" + 0.009*\"pattern\" + 0.009*\"spike\" + 0.008*\"synaptic\" + 0.008*\"cell\" + 0.008*\"activity\" + 0.006*\"firing\" + 0.005*\"synapsis\" + 0.005*\"neural\" + 0.004*\"response\" + 0.004*\"effect\" + 0.004*\"dynamic\" + 0.004*\"threshold\" + 0.004*\"current\" + 0.004*\"connection\" + 0.004*\"signal\" + 0.004*\"state\" + 0.004*\"memory\" + 0.004*\"simulation\" + 0.004*\"rate\"\n",
            "\n",
            "Topic #10:\n",
            "0.029*\"state\" + 0.013*\"control\" + 0.011*\"action\" + 0.007*\"step\" + 0.007*\"policy\" + 0.006*\"task\" + 0.006*\"controller\" + 0.006*\"trajectory\" + 0.006*\"reinforcement_learning\" + 0.005*\"optimal\" + 0.005*\"environment\" + 0.004*\"robot\" + 0.004*\"dynamic\" + 0.004*\"goal\" + 0.003*\"reward\" + 0.003*\"change\" + 0.003*\"agent\" + 0.003*\"path\" + 0.003*\"current\" + 0.003*\"td\"\n",
            "\n"
          ]
        }
      ]
    },
    {
      "cell_type": "markdown",
      "source": [
        "Построим LDA с использованием фреймворка MALLET для нахождения оптимального количества тем в нашей тематической модели. Для начала установим его:"
      ],
      "metadata": {
        "id": "QcICVoRBtdSM"
      }
    },
    {
      "cell_type": "code",
      "source": [
        "!wget http://mallet.cs.umass.edu/dist/mallet-2.0.8.zip\n",
        "!unzip -q mallet-2.0.8.zip"
      ],
      "metadata": {
        "colab": {
          "base_uri": "https://localhost:8080/"
        },
        "id": "oWbQ80djd_Q0",
        "outputId": "a66fb39b-810a-443f-dc87-87bf6b915c84"
      },
      "execution_count": null,
      "outputs": [
        {
          "output_type": "stream",
          "name": "stdout",
          "text": [
            "--2022-05-31 04:55:25--  http://mallet.cs.umass.edu/dist/mallet-2.0.8.zip\n",
            "Resolving mallet.cs.umass.edu (mallet.cs.umass.edu)... 128.119.246.70\n",
            "Connecting to mallet.cs.umass.edu (mallet.cs.umass.edu)|128.119.246.70|:80... connected.\n",
            "HTTP request sent, awaiting response... 302 Found\n",
            "Location: https://mallet.cs.umass.edu/dist/mallet-2.0.8.zip [following]\n",
            "--2022-05-31 04:55:25--  https://mallet.cs.umass.edu/dist/mallet-2.0.8.zip\n",
            "Connecting to mallet.cs.umass.edu (mallet.cs.umass.edu)|128.119.246.70|:443... connected.\n",
            "HTTP request sent, awaiting response... 200 OK\n",
            "Length: 16184794 (15M) [application/zip]\n",
            "Saving to: ‘mallet-2.0.8.zip’\n",
            "\n",
            "mallet-2.0.8.zip    100%[===================>]  15.43M  60.7MB/s    in 0.3s    \n",
            "\n",
            "2022-05-31 04:55:26 (60.7 MB/s) - ‘mallet-2.0.8.zip’ saved [16184794/16184794]\n",
            "\n"
          ]
        }
      ]
    },
    {
      "cell_type": "code",
      "source": [
        "MALLET_PATH = 'mallet-2.0.8/bin/mallet'\n",
        "lda_mallet = gensim.models.wrappers.LdaMallet(mallet_path=MALLET_PATH, corpus=bow_corpus, \n",
        "                                              num_topics=10, id2word=dictionary,\n",
        "                                              iterations=500, workers=4)"
      ],
      "metadata": {
        "id": "rovA2vMUeCix"
      },
      "execution_count": null,
      "outputs": []
    },
    {
      "cell_type": "code",
      "source": [
        "def topic_model_coherence_generator(corpus, texts, dictionary, \n",
        "                                    start_topic_count=2, end_topic_count=10, step=1,\n",
        "                                    cpus=1):\n",
        "    \n",
        "    models = []\n",
        "    coherence_scores = []\n",
        "    for topic_nums in tqdm.tqdm(range(start_topic_count, end_topic_count+1, step)):\n",
        "        mallet_lda_model = gensim.models.wrappers.LdaMallet(mallet_path=MALLET_PATH, corpus=corpus,\n",
        "                                                            num_topics=topic_nums, id2word=dictionary,\n",
        "                                                            iterations=500, workers=cpus)\n",
        "        cv_coherence_model_mallet_lda = gensim.models.CoherenceModel(model=mallet_lda_model, corpus=corpus, \n",
        "                                                                     texts=texts, dictionary=dictionary, \n",
        "                                                                     coherence='c_v')\n",
        "        coherence_score = cv_coherence_model_mallet_lda.get_coherence()\n",
        "        coherence_scores.append(coherence_score)\n",
        "        models.append(mallet_lda_model)\n",
        "    \n",
        "    return models, coherence_scores"
      ],
      "metadata": {
        "id": "QmJopkSUW9Bp"
      },
      "execution_count": null,
      "outputs": []
    },
    {
      "cell_type": "code",
      "source": [
        "lda_models, coherence_scores = topic_model_coherence_generator(corpus=bow_corpus, texts=norm_corpus_bigrams,\n",
        "                                                               dictionary=dictionary, start_topic_count=2,\n",
        "                                                               end_topic_count=30, step=1, cpus=4)"
      ],
      "metadata": {
        "colab": {
          "base_uri": "https://localhost:8080/"
        },
        "id": "w5CBHuRRXBmY",
        "outputId": "c1dad1a7-f8a5-4496-95e5-d581b4ba91bd"
      },
      "execution_count": null,
      "outputs": [
        {
          "output_type": "stream",
          "name": "stderr",
          "text": [
            "100%|██████████| 29/29 [1:34:39<00:00, 195.84s/it]\n"
          ]
        }
      ]
    },
    {
      "cell_type": "markdown",
      "source": [
        "Для каждого рассмотренного количества тем посмотрим на оценку связности:"
      ],
      "metadata": {
        "id": "tnKfksYshBej"
      }
    },
    {
      "cell_type": "code",
      "source": [
        "coherence_df = pd.DataFrame({'Number of Topics': range(2, 31, 1),\n",
        "                             'Coherence Score': np.round(coherence_scores, 4)})\n",
        "coherence_df.sort_values(by=['Coherence Score'], ascending=False).head(10)"
      ],
      "metadata": {
        "colab": {
          "base_uri": "https://localhost:8080/",
          "height": 363
        },
        "id": "PelMwQ0AXFx6",
        "outputId": "cb22cf83-3291-48e2-dc3b-3ead67fa02d2"
      },
      "execution_count": null,
      "outputs": [
        {
          "output_type": "execute_result",
          "data": {
            "text/plain": [
              "    Number of Topics  Coherence Score\n",
              "17                19           0.5441\n",
              "23                25           0.5429\n",
              "28                30           0.5416\n",
              "19                21           0.5406\n",
              "11                13           0.5395\n",
              "27                29           0.5364\n",
              "26                28           0.5342\n",
              "14                16           0.5339\n",
              "13                15           0.5338\n",
              "22                24           0.5338"
            ],
            "text/html": [
              "\n",
              "  <div id=\"df-fb219382-f7b4-4f3b-80c7-60ee28c9bba5\">\n",
              "    <div class=\"colab-df-container\">\n",
              "      <div>\n",
              "<style scoped>\n",
              "    .dataframe tbody tr th:only-of-type {\n",
              "        vertical-align: middle;\n",
              "    }\n",
              "\n",
              "    .dataframe tbody tr th {\n",
              "        vertical-align: top;\n",
              "    }\n",
              "\n",
              "    .dataframe thead th {\n",
              "        text-align: right;\n",
              "    }\n",
              "</style>\n",
              "<table border=\"1\" class=\"dataframe\">\n",
              "  <thead>\n",
              "    <tr style=\"text-align: right;\">\n",
              "      <th></th>\n",
              "      <th>Number of Topics</th>\n",
              "      <th>Coherence Score</th>\n",
              "    </tr>\n",
              "  </thead>\n",
              "  <tbody>\n",
              "    <tr>\n",
              "      <th>17</th>\n",
              "      <td>19</td>\n",
              "      <td>0.5441</td>\n",
              "    </tr>\n",
              "    <tr>\n",
              "      <th>23</th>\n",
              "      <td>25</td>\n",
              "      <td>0.5429</td>\n",
              "    </tr>\n",
              "    <tr>\n",
              "      <th>28</th>\n",
              "      <td>30</td>\n",
              "      <td>0.5416</td>\n",
              "    </tr>\n",
              "    <tr>\n",
              "      <th>19</th>\n",
              "      <td>21</td>\n",
              "      <td>0.5406</td>\n",
              "    </tr>\n",
              "    <tr>\n",
              "      <th>11</th>\n",
              "      <td>13</td>\n",
              "      <td>0.5395</td>\n",
              "    </tr>\n",
              "    <tr>\n",
              "      <th>27</th>\n",
              "      <td>29</td>\n",
              "      <td>0.5364</td>\n",
              "    </tr>\n",
              "    <tr>\n",
              "      <th>26</th>\n",
              "      <td>28</td>\n",
              "      <td>0.5342</td>\n",
              "    </tr>\n",
              "    <tr>\n",
              "      <th>14</th>\n",
              "      <td>16</td>\n",
              "      <td>0.5339</td>\n",
              "    </tr>\n",
              "    <tr>\n",
              "      <th>13</th>\n",
              "      <td>15</td>\n",
              "      <td>0.5338</td>\n",
              "    </tr>\n",
              "    <tr>\n",
              "      <th>22</th>\n",
              "      <td>24</td>\n",
              "      <td>0.5338</td>\n",
              "    </tr>\n",
              "  </tbody>\n",
              "</table>\n",
              "</div>\n",
              "      <button class=\"colab-df-convert\" onclick=\"convertToInteractive('df-fb219382-f7b4-4f3b-80c7-60ee28c9bba5')\"\n",
              "              title=\"Convert this dataframe to an interactive table.\"\n",
              "              style=\"display:none;\">\n",
              "        \n",
              "  <svg xmlns=\"http://www.w3.org/2000/svg\" height=\"24px\"viewBox=\"0 0 24 24\"\n",
              "       width=\"24px\">\n",
              "    <path d=\"M0 0h24v24H0V0z\" fill=\"none\"/>\n",
              "    <path d=\"M18.56 5.44l.94 2.06.94-2.06 2.06-.94-2.06-.94-.94-2.06-.94 2.06-2.06.94zm-11 1L8.5 8.5l.94-2.06 2.06-.94-2.06-.94L8.5 2.5l-.94 2.06-2.06.94zm10 10l.94 2.06.94-2.06 2.06-.94-2.06-.94-.94-2.06-.94 2.06-2.06.94z\"/><path d=\"M17.41 7.96l-1.37-1.37c-.4-.4-.92-.59-1.43-.59-.52 0-1.04.2-1.43.59L10.3 9.45l-7.72 7.72c-.78.78-.78 2.05 0 2.83L4 21.41c.39.39.9.59 1.41.59.51 0 1.02-.2 1.41-.59l7.78-7.78 2.81-2.81c.8-.78.8-2.07 0-2.86zM5.41 20L4 18.59l7.72-7.72 1.47 1.35L5.41 20z\"/>\n",
              "  </svg>\n",
              "      </button>\n",
              "      \n",
              "  <style>\n",
              "    .colab-df-container {\n",
              "      display:flex;\n",
              "      flex-wrap:wrap;\n",
              "      gap: 12px;\n",
              "    }\n",
              "\n",
              "    .colab-df-convert {\n",
              "      background-color: #E8F0FE;\n",
              "      border: none;\n",
              "      border-radius: 50%;\n",
              "      cursor: pointer;\n",
              "      display: none;\n",
              "      fill: #1967D2;\n",
              "      height: 32px;\n",
              "      padding: 0 0 0 0;\n",
              "      width: 32px;\n",
              "    }\n",
              "\n",
              "    .colab-df-convert:hover {\n",
              "      background-color: #E2EBFA;\n",
              "      box-shadow: 0px 1px 2px rgba(60, 64, 67, 0.3), 0px 1px 3px 1px rgba(60, 64, 67, 0.15);\n",
              "      fill: #174EA6;\n",
              "    }\n",
              "\n",
              "    [theme=dark] .colab-df-convert {\n",
              "      background-color: #3B4455;\n",
              "      fill: #D2E3FC;\n",
              "    }\n",
              "\n",
              "    [theme=dark] .colab-df-convert:hover {\n",
              "      background-color: #434B5C;\n",
              "      box-shadow: 0px 1px 3px 1px rgba(0, 0, 0, 0.15);\n",
              "      filter: drop-shadow(0px 1px 2px rgba(0, 0, 0, 0.3));\n",
              "      fill: #FFFFFF;\n",
              "    }\n",
              "  </style>\n",
              "\n",
              "      <script>\n",
              "        const buttonEl =\n",
              "          document.querySelector('#df-fb219382-f7b4-4f3b-80c7-60ee28c9bba5 button.colab-df-convert');\n",
              "        buttonEl.style.display =\n",
              "          google.colab.kernel.accessAllowed ? 'block' : 'none';\n",
              "\n",
              "        async function convertToInteractive(key) {\n",
              "          const element = document.querySelector('#df-fb219382-f7b4-4f3b-80c7-60ee28c9bba5');\n",
              "          const dataTable =\n",
              "            await google.colab.kernel.invokeFunction('convertToInteractive',\n",
              "                                                     [key], {});\n",
              "          if (!dataTable) return;\n",
              "\n",
              "          const docLinkHtml = 'Like what you see? Visit the ' +\n",
              "            '<a target=\"_blank\" href=https://colab.research.google.com/notebooks/data_table.ipynb>data table notebook</a>'\n",
              "            + ' to learn more about interactive tables.';\n",
              "          element.innerHTML = '';\n",
              "          dataTable['output_type'] = 'display_data';\n",
              "          await google.colab.output.renderOutput(dataTable, element);\n",
              "          const docLink = document.createElement('div');\n",
              "          docLink.innerHTML = docLinkHtml;\n",
              "          element.appendChild(docLink);\n",
              "        }\n",
              "      </script>\n",
              "    </div>\n",
              "  </div>\n",
              "  "
            ]
          },
          "metadata": {},
          "execution_count": 26
        }
      ]
    },
    {
      "cell_type": "markdown",
      "source": [
        "Оценка связности в графическом виде выглядит следующим образом:"
      ],
      "metadata": {
        "id": "qSSP8ghR4Q6l"
      }
    },
    {
      "cell_type": "code",
      "source": [
        "import matplotlib.pyplot as plt\n",
        "plt.style.use('fivethirtyeight')\n",
        "%matplotlib inline\n",
        "\n",
        "x_ax = range(2, 31, 1)\n",
        "y_ax = coherence_scores\n",
        "plt.figure(figsize=(12, 6))\n",
        "plt.plot(x_ax, y_ax, c='r')\n",
        "plt.axhline(y=0.535, c='k', linestyle='--', linewidth=2)\n",
        "plt.rcParams['figure.facecolor'] = 'white'\n",
        "xl = plt.xlabel('Number of Topics')\n",
        "yl = plt.ylabel('Coherence Score')"
      ],
      "metadata": {
        "colab": {
          "base_uri": "https://localhost:8080/",
          "height": 388
        },
        "id": "pB3hTIqFXI0P",
        "outputId": "24d290a4-7ffd-49e7-9bdd-c1094c46b97f"
      },
      "execution_count": null,
      "outputs": [
        {
          "output_type": "display_data",
          "data": {
            "text/plain": [
              "<Figure size 864x432 with 1 Axes>"
            ],
            "image/png": "[encoded data removed]"
          },
          "metadata": {
            "needs_background": "light"
          }
        }
      ]
    },
    {
      "cell_type": "markdown",
      "source": [
        "На этом этапе необходимо интуитивно выбрать количество тем, которое является оптимальным по нашему мнению. Исходя из графика выберем количество тем, равное 25."
      ],
      "metadata": {
        "id": "M1_BTwLn4cQP"
      }
    },
    {
      "cell_type": "code",
      "source": [
        "best_model_idx = coherence_df[coherence_df['Number of Topics'] == 25].index[0]\n",
        "best_lda_model = lda_models[best_model_idx]\n",
        "best_lda_model.num_topics"
      ],
      "metadata": {
        "colab": {
          "base_uri": "https://localhost:8080/"
        },
        "id": "CgoheAqO00a3",
        "outputId": "5f59cd37-0a70-4db2-893b-34359d11480f"
      },
      "execution_count": null,
      "outputs": [
        {
          "output_type": "execute_result",
          "data": {
            "text/plain": [
              "25"
            ]
          },
          "metadata": {},
          "execution_count": 31
        }
      ]
    },
    {
      "cell_type": "markdown",
      "source": [
        "Посмотрим на получившуюся тематическую модель LDA.\n",
        "\n",
        "Для каждой из 25 тематик были подобраны связанные с ней слова и фразы."
      ],
      "metadata": {
        "id": "5q7JsYUZ5a30"
      }
    },
    {
      "cell_type": "code",
      "source": [
        "pd.set_option('display.max_colwidth', -1)\n",
        "topics_df = pd.DataFrame([', '.join([term for term, wt in topic])  \n",
        "                              for topic in topics],\n",
        "                         columns = ['Terms per Topic'],\n",
        "                         index=['Topic'+str(t) for t in range(1, best_lda_model.num_topics+1)]\n",
        "                         )\n",
        "topics_df"
      ],
      "metadata": {
        "colab": {
          "base_uri": "https://localhost:8080/",
          "height": 949
        },
        "id": "LJw6cvqX1mSQ",
        "outputId": "9724a94b-f4bd-43f1-9968-b4966b1e2c52"
      },
      "execution_count": null,
      "outputs": [
        {
          "output_type": "stream",
          "name": "stderr",
          "text": [
            "/usr/local/lib/python3.7/dist-packages/ipykernel_launcher.py:1: FutureWarning: Passing a negative integer is deprecated in version 1.0 and will not be supported in future version. Instead, use None to not limit the column width.\n",
            "  \"\"\"Entry point for launching an IPython kernel.\n"
          ]
        },
        {
          "output_type": "execute_result",
          "data": {
            "text/plain": [
              "                                                                                                                                                                                                                         Terms per Topic\n",
              "Topic1   class, classification, classifier, sample, probability, loss, pattern, machine, hypothesis, training, distribution, query, concept, decision, margin, instance, label, nearest_neighbor, target, perceptron                    \n",
              "Topic2   vector, matrix, kernel, transformation, linear, distance, feature, representation, pca, dimensional, direction, component, principal_component, projection, dimension, support_vector, manifold, prototype, subspace, technique\n",
              "Topic3   state, sequence, recurrent, dynamic, step, transition, attractor, continuous, context, mode, length, dynamical_system, discrete, automaton, matrix, trajectory, markov, hidden, initial, modeling                              \n",
              "Topic4   training, prediction, test, training_set, trained, expert, table, average, task, selection, experiment, test_set, ensemble, size, bias, generalization, cross_validation, measure, accuracy, feature                           \n",
              "Topic5   control, module, trajectory, position, motor, controller, movement, robot, dynamic, hand, forward, change, feedback, arm, task, behavior, force, field, environment, move                                                      \n",
              "Topic6   state, action, policy, step, reinforcement_learning, task, environment, optimal, control, reward, goal, td, agent, trial, rl, reinforcement, current, machine, exploration, sutton                                             \n",
              "Topic7   application, processor, computer, user, parallel, rate, block, speed, program, technique, implementation, machine, architecture, processing, experiment, call, computation, type, board, size                                  \n",
              "Topic8   memory, pattern, code, bit, vector, capacity, neuron, hopfield, probability, connection, binary, stored, associative_memory, recall, element, random, size, matrix, coding, decoding                                           \n",
              "Topic9   signal, frequency, channel, filter, detection, sound, auditory, delay, temporal, phase, amplitude, spectral, event, processing, neural, window, spectrum, waveform, rate, eeg                                                  \n",
              "Topic10  word, recognition, training, speech, character, feature, context, frame, letter, speaker, hmm, trained, digit, speech_recognition, phoneme, mlp, vowel, segmentation, hybrid, experiment                                       \n",
              "Topic11  solution, constraint, optimization, energy, minimum, optimal, equation, cost, convergence, find, cost_function, iteration, step, minimize, objective_function, quadratic, minimization, gradient, derivative, technique        \n",
              "Topic12  equation, rate, dynamic, eq, gradient, convergence, curve, theory, line, limit, average, solution, vector, fixed_point, stochastic, teacher, dt, student, constant, asymptotic                                                 \n",
              "Topic13  image, object, feature, pixel, face, view, contour, shape, part, recognition, scale, visual, representation, scene, position, surface, vision, edge, texture, location                                                         \n",
              "Topic14  response, stimulus, motion, visual, direction, unit, target, location, contrast, spatial, velocity, processing, cue, temporal, field, activity, stage, task, moving, attention                                                 \n",
              "Topic15  local, region, map, cluster, structure, search, clustering, distance, global, level, mapping, dimension, center, fig, boundary, path, size, graph, edge, neighborhood                                                          \n",
              "Topic16  bound, theorem, size, proof, threshold, complexity, assume, polynomial, definition, theory, bounded, linear, class, constant, xi, defined, define, condition, arbitrary, computation                                           \n",
              "Topic17  noise, source, correlation, distribution, component, entropy, variance, signal, gaussian, rule, ica, independent, statistical, statistic, density, filter, noisy, coefficient, measure, mutual_information                     \n",
              "Topic18  circuit, chip, current, analog, voltage, neuron, device, implementation, synapse, neural, design, transistor, pulse, gain, digital, array, analog_vlsi, vlsi, implemented, winner_take                                         \n",
              "Topic19  neuron, synaptic, spike, activity, firing, response, cell, synapsis, neural, neuronal, oscillator, firing_rate, pattern, et_al, stimulus, threshold, current, oscillation, simulation, effect                                  \n",
              "Topic20  cell, layer, cortical, map, receptive_field, pattern, activity, cortex, orientation, connection, center, eye, development, area, brain, region, spatial, et_al, rat, property                                                  \n",
              "Topic21  distribution, probability, prior, variable, mixture, gaussian, bayesian, density, likelihood, log, approximation, estimate, sample, em, posterior, component, probabilistic, covariance, mean_field, step                      \n",
              "Topic22  representation, human, subject, effect, similarity, study, theory, experiment, specific, important, individual, feature, level, context, behavior, knowledge, press, research, comparison, generalization                      \n",
              "Topic23  node, rule, tree, structure, representation, language, symbol, level, string, connectionist, grammar, graph, role, instance, protein, represented, leaf, child, binding, match                                                 \n",
              "Topic24  linear, nonlinear, estimate, approximation, estimation, sample, rbf, regression, operator, optimal, estimator, adaptive, basis_function, vector, radial_basis, local, gaussian, regularization, spline, equation               \n",
              "Topic25  unit, layer, hidden_unit, net, training, pattern, activation, architecture, task, trained, back_propagation, connection, hidden_layer, hidden, learn, backpropagation, simulation, epoch, target, connectionist                "
            ],
            "text/html": [
              "\n",
              "  <div id=\"df-e43208bb-c4e7-473a-ab16-3defb5e3d6bd\">\n",
              "    <div class=\"colab-df-container\">\n",
              "      <div>\n",
              "<style scoped>\n",
              "    .dataframe tbody tr th:only-of-type {\n",
              "        vertical-align: middle;\n",
              "    }\n",
              "\n",
              "    .dataframe tbody tr th {\n",
              "        vertical-align: top;\n",
              "    }\n",
              "\n",
              "    .dataframe thead th {\n",
              "        text-align: right;\n",
              "    }\n",
              "</style>\n",
              "<table border=\"1\" class=\"dataframe\">\n",
              "  <thead>\n",
              "    <tr style=\"text-align: right;\">\n",
              "      <th></th>\n",
              "      <th>Terms per Topic</th>\n",
              "    </tr>\n",
              "  </thead>\n",
              "  <tbody>\n",
              "    <tr>\n",
              "      <th>Topic1</th>\n",
              "      <td>class, classification, classifier, sample, probability, loss, pattern, machine, hypothesis, training, distribution, query, concept, decision, margin, instance, label, nearest_neighbor, target, perceptron</td>\n",
              "    </tr>\n",
              "    <tr>\n",
              "      <th>Topic2</th>\n",
              "      <td>vector, matrix, kernel, transformation, linear, distance, feature, representation, pca, dimensional, direction, component, principal_component, projection, dimension, support_vector, manifold, prototype, subspace, technique</td>\n",
              "    </tr>\n",
              "    <tr>\n",
              "      <th>Topic3</th>\n",
              "      <td>state, sequence, recurrent, dynamic, step, transition, attractor, continuous, context, mode, length, dynamical_system, discrete, automaton, matrix, trajectory, markov, hidden, initial, modeling</td>\n",
              "    </tr>\n",
              "    <tr>\n",
              "      <th>Topic4</th>\n",
              "      <td>training, prediction, test, training_set, trained, expert, table, average, task, selection, experiment, test_set, ensemble, size, bias, generalization, cross_validation, measure, accuracy, feature</td>\n",
              "    </tr>\n",
              "    <tr>\n",
              "      <th>Topic5</th>\n",
              "      <td>control, module, trajectory, position, motor, controller, movement, robot, dynamic, hand, forward, change, feedback, arm, task, behavior, force, field, environment, move</td>\n",
              "    </tr>\n",
              "    <tr>\n",
              "      <th>Topic6</th>\n",
              "      <td>state, action, policy, step, reinforcement_learning, task, environment, optimal, control, reward, goal, td, agent, trial, rl, reinforcement, current, machine, exploration, sutton</td>\n",
              "    </tr>\n",
              "    <tr>\n",
              "      <th>Topic7</th>\n",
              "      <td>application, processor, computer, user, parallel, rate, block, speed, program, technique, implementation, machine, architecture, processing, experiment, call, computation, type, board, size</td>\n",
              "    </tr>\n",
              "    <tr>\n",
              "      <th>Topic8</th>\n",
              "      <td>memory, pattern, code, bit, vector, capacity, neuron, hopfield, probability, connection, binary, stored, associative_memory, recall, element, random, size, matrix, coding, decoding</td>\n",
              "    </tr>\n",
              "    <tr>\n",
              "      <th>Topic9</th>\n",
              "      <td>signal, frequency, channel, filter, detection, sound, auditory, delay, temporal, phase, amplitude, spectral, event, processing, neural, window, spectrum, waveform, rate, eeg</td>\n",
              "    </tr>\n",
              "    <tr>\n",
              "      <th>Topic10</th>\n",
              "      <td>word, recognition, training, speech, character, feature, context, frame, letter, speaker, hmm, trained, digit, speech_recognition, phoneme, mlp, vowel, segmentation, hybrid, experiment</td>\n",
              "    </tr>\n",
              "    <tr>\n",
              "      <th>Topic11</th>\n",
              "      <td>solution, constraint, optimization, energy, minimum, optimal, equation, cost, convergence, find, cost_function, iteration, step, minimize, objective_function, quadratic, minimization, gradient, derivative, technique</td>\n",
              "    </tr>\n",
              "    <tr>\n",
              "      <th>Topic12</th>\n",
              "      <td>equation, rate, dynamic, eq, gradient, convergence, curve, theory, line, limit, average, solution, vector, fixed_point, stochastic, teacher, dt, student, constant, asymptotic</td>\n",
              "    </tr>\n",
              "    <tr>\n",
              "      <th>Topic13</th>\n",
              "      <td>image, object, feature, pixel, face, view, contour, shape, part, recognition, scale, visual, representation, scene, position, surface, vision, edge, texture, location</td>\n",
              "    </tr>\n",
              "    <tr>\n",
              "      <th>Topic14</th>\n",
              "      <td>response, stimulus, motion, visual, direction, unit, target, location, contrast, spatial, velocity, processing, cue, temporal, field, activity, stage, task, moving, attention</td>\n",
              "    </tr>\n",
              "    <tr>\n",
              "      <th>Topic15</th>\n",
              "      <td>local, region, map, cluster, structure, search, clustering, distance, global, level, mapping, dimension, center, fig, boundary, path, size, graph, edge, neighborhood</td>\n",
              "    </tr>\n",
              "    <tr>\n",
              "      <th>Topic16</th>\n",
              "      <td>bound, theorem, size, proof, threshold, complexity, assume, polynomial, definition, theory, bounded, linear, class, constant, xi, defined, define, condition, arbitrary, computation</td>\n",
              "    </tr>\n",
              "    <tr>\n",
              "      <th>Topic17</th>\n",
              "      <td>noise, source, correlation, distribution, component, entropy, variance, signal, gaussian, rule, ica, independent, statistical, statistic, density, filter, noisy, coefficient, measure, mutual_information</td>\n",
              "    </tr>\n",
              "    <tr>\n",
              "      <th>Topic18</th>\n",
              "      <td>circuit, chip, current, analog, voltage, neuron, device, implementation, synapse, neural, design, transistor, pulse, gain, digital, array, analog_vlsi, vlsi, implemented, winner_take</td>\n",
              "    </tr>\n",
              "    <tr>\n",
              "      <th>Topic19</th>\n",
              "      <td>neuron, synaptic, spike, activity, firing, response, cell, synapsis, neural, neuronal, oscillator, firing_rate, pattern, et_al, stimulus, threshold, current, oscillation, simulation, effect</td>\n",
              "    </tr>\n",
              "    <tr>\n",
              "      <th>Topic20</th>\n",
              "      <td>cell, layer, cortical, map, receptive_field, pattern, activity, cortex, orientation, connection, center, eye, development, area, brain, region, spatial, et_al, rat, property</td>\n",
              "    </tr>\n",
              "    <tr>\n",
              "      <th>Topic21</th>\n",
              "      <td>distribution, probability, prior, variable, mixture, gaussian, bayesian, density, likelihood, log, approximation, estimate, sample, em, posterior, component, probabilistic, covariance, mean_field, step</td>\n",
              "    </tr>\n",
              "    <tr>\n",
              "      <th>Topic22</th>\n",
              "      <td>representation, human, subject, effect, similarity, study, theory, experiment, specific, important, individual, feature, level, context, behavior, knowledge, press, research, comparison, generalization</td>\n",
              "    </tr>\n",
              "    <tr>\n",
              "      <th>Topic23</th>\n",
              "      <td>node, rule, tree, structure, representation, language, symbol, level, string, connectionist, grammar, graph, role, instance, protein, represented, leaf, child, binding, match</td>\n",
              "    </tr>\n",
              "    <tr>\n",
              "      <th>Topic24</th>\n",
              "      <td>linear, nonlinear, estimate, approximation, estimation, sample, rbf, regression, operator, optimal, estimator, adaptive, basis_function, vector, radial_basis, local, gaussian, regularization, spline, equation</td>\n",
              "    </tr>\n",
              "    <tr>\n",
              "      <th>Topic25</th>\n",
              "      <td>unit, layer, hidden_unit, net, training, pattern, activation, architecture, task, trained, back_propagation, connection, hidden_layer, hidden, learn, backpropagation, simulation, epoch, target, connectionist</td>\n",
              "    </tr>\n",
              "  </tbody>\n",
              "</table>\n",
              "</div>\n",
              "      <button class=\"colab-df-convert\" onclick=\"convertToInteractive('df-e43208bb-c4e7-473a-ab16-3defb5e3d6bd')\"\n",
              "              title=\"Convert this dataframe to an interactive table.\"\n",
              "              style=\"display:none;\">\n",
              "        \n",
              "  <svg xmlns=\"http://www.w3.org/2000/svg\" height=\"24px\"viewBox=\"0 0 24 24\"\n",
              "       width=\"24px\">\n",
              "    <path d=\"M0 0h24v24H0V0z\" fill=\"none\"/>\n",
              "    <path d=\"M18.56 5.44l.94 2.06.94-2.06 2.06-.94-2.06-.94-.94-2.06-.94 2.06-2.06.94zm-11 1L8.5 8.5l.94-2.06 2.06-.94-2.06-.94L8.5 2.5l-.94 2.06-2.06.94zm10 10l.94 2.06.94-2.06 2.06-.94-2.06-.94-.94-2.06-.94 2.06-2.06.94z\"/><path d=\"M17.41 7.96l-1.37-1.37c-.4-.4-.92-.59-1.43-.59-.52 0-1.04.2-1.43.59L10.3 9.45l-7.72 7.72c-.78.78-.78 2.05 0 2.83L4 21.41c.39.39.9.59 1.41.59.51 0 1.02-.2 1.41-.59l7.78-7.78 2.81-2.81c.8-.78.8-2.07 0-2.86zM5.41 20L4 18.59l7.72-7.72 1.47 1.35L5.41 20z\"/>\n",
              "  </svg>\n",
              "      </button>\n",
              "      \n",
              "  <style>\n",
              "    .colab-df-container {\n",
              "      display:flex;\n",
              "      flex-wrap:wrap;\n",
              "      gap: 12px;\n",
              "    }\n",
              "\n",
              "    .colab-df-convert {\n",
              "      background-color: #E8F0FE;\n",
              "      border: none;\n",
              "      border-radius: 50%;\n",
              "      cursor: pointer;\n",
              "      display: none;\n",
              "      fill: #1967D2;\n",
              "      height: 32px;\n",
              "      padding: 0 0 0 0;\n",
              "      width: 32px;\n",
              "    }\n",
              "\n",
              "    .colab-df-convert:hover {\n",
              "      background-color: #E2EBFA;\n",
              "      box-shadow: 0px 1px 2px rgba(60, 64, 67, 0.3), 0px 1px 3px 1px rgba(60, 64, 67, 0.15);\n",
              "      fill: #174EA6;\n",
              "    }\n",
              "\n",
              "    [theme=dark] .colab-df-convert {\n",
              "      background-color: #3B4455;\n",
              "      fill: #D2E3FC;\n",
              "    }\n",
              "\n",
              "    [theme=dark] .colab-df-convert:hover {\n",
              "      background-color: #434B5C;\n",
              "      box-shadow: 0px 1px 3px 1px rgba(0, 0, 0, 0.15);\n",
              "      filter: drop-shadow(0px 1px 2px rgba(0, 0, 0, 0.3));\n",
              "      fill: #FFFFFF;\n",
              "    }\n",
              "  </style>\n",
              "\n",
              "      <script>\n",
              "        const buttonEl =\n",
              "          document.querySelector('#df-e43208bb-c4e7-473a-ab16-3defb5e3d6bd button.colab-df-convert');\n",
              "        buttonEl.style.display =\n",
              "          google.colab.kernel.accessAllowed ? 'block' : 'none';\n",
              "\n",
              "        async function convertToInteractive(key) {\n",
              "          const element = document.querySelector('#df-e43208bb-c4e7-473a-ab16-3defb5e3d6bd');\n",
              "          const dataTable =\n",
              "            await google.colab.kernel.invokeFunction('convertToInteractive',\n",
              "                                                     [key], {});\n",
              "          if (!dataTable) return;\n",
              "\n",
              "          const docLinkHtml = 'Like what you see? Visit the ' +\n",
              "            '<a target=\"_blank\" href=https://colab.research.google.com/notebooks/data_table.ipynb>data table notebook</a>'\n",
              "            + ' to learn more about interactive tables.';\n",
              "          element.innerHTML = '';\n",
              "          dataTable['output_type'] = 'display_data';\n",
              "          await google.colab.output.renderOutput(dataTable, element);\n",
              "          const docLink = document.createElement('div');\n",
              "          docLink.innerHTML = docLinkHtml;\n",
              "          element.appendChild(docLink);\n",
              "        }\n",
              "      </script>\n",
              "    </div>\n",
              "  </div>\n",
              "  "
            ]
          },
          "metadata": {},
          "execution_count": 37
        }
      ]
    },
    {
      "cell_type": "markdown",
      "source": [
        "**Интерпретация результата**\n",
        "\n",
        "Имея набор данных и обученную LDA-модель, можно предсказать распределение тематик в каждом из документов (в нашем случае - в каждой из научно-исследовательских работ). Для каждой из тематик были подобраны различные фразы, соответствующие ей.\n"
      ],
      "metadata": {
        "id": "lMYyRIdxC-l-"
      }
    },
    {
      "cell_type": "markdown",
      "source": [
        "**Задания для самостоятельной работы:**\n",
        "\n",
        "По аналогии с решенной задачей, построить модель набора тематик из заголовков журнала  \"$Proceedings$ $of$ $the$ $National$ $Academy$ $of$ $Sciences$.\"\n",
        "\n",
        "Замечания:\n",
        "\n",
        "Для загрузки данных используйте команды\n",
        "\n",
        "> !wget https://cs.nyu.edu/~roweis/data/pnas_all.mat\n",
        "\n",
        "> !tar -xzf pnas_all.mat\n",
        "\n",
        "Также не забудьте обработать данные формата .mat для работы в среде Python."
      ],
      "metadata": {
        "id": "KPpB5Tb0DAj-"
      }
    }
  ]
}