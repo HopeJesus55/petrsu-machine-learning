{
  "nbformat": 4,
  "nbformat_minor": 0,
  "metadata": {
    "colab": {
      "name": " LSA - Латентно-семантический анализ.ipynb",
      "provenance": [],
      "collapsed_sections": []
    },
    "kernelspec": {
      "name": "python3",
      "display_name": "Python 3"
    },
    "language_info": {
      "name": "python"
    }
  },
  "cells": [
    {
      "cell_type": "markdown",
      "source": [
        "LSA - Латентно-семантический анализ"
      ],
      "metadata": {
        "id": "KUPu1Chw_SFT"
      }
    },
    {
      "cell_type": "markdown",
      "source": [
        "**Латентно-семантический анализ (LSA)** $-$ это теория и метод извлечения и представления контекстного использования значений слов. Метод основывается на статистических вычислениях, применяемых на текстах большого объема.\n",
        "\n",
        "LSA анализирует и идентифицирует паттерны в неструктурированной коллекции текста и отпределяет отношения между ними. "
      ],
      "metadata": {
        "id": "W-Fyivkc1qXp"
      }
    },
    {
      "cell_type": "markdown",
      "source": [
        "**Постановка задачи**\n",
        "\n",
        "Рассмотрим задачу [Kaggle: Amazon Fine Food Reviews.](https://www.kaggle.com/datasets/snap/amazon-fine-food-reviews?resource=download)\n",
        "\n",
        "Цель задачи $-$ с помощью LSA проанализировать около 500,000 отзывов на еду с сайта Амазон."
      ],
      "metadata": {
        "id": "Au2he0Al_VJL"
      }
    },
    {
      "cell_type": "markdown",
      "source": [
        "**Описание структуры исходных данных**\n",
        "\n",
        "Входные данные подаются в CSV (Сomma-separated values) формате. Каждая строка соответствует одному из отзывов. Колонки, в порядке слева направо, отображают следующее: уникальный идентификатор строки; уникальный идентификатор продукта; уникальный идентификатор пользователя; имя пользователя; реальное количество людей, посчитавших отзыв полезным; количество людей, отметивших отзыв полезным; оценка продукта пользователем по пятибалльной шкале; время оставления отзыва; краткое содержание отзыва и, наконец, сам текст отзыва."
      ],
      "metadata": {
        "id": "HoZ36WGd_atC"
      }
    },
    {
      "cell_type": "markdown",
      "source": [
        "**Описание используемых функций и их параметров**\n",
        "\n",
        "sklearn.feature_extraction.TfidfVectorizer() - приводит коллекцию исходных документов к матрице TF-IDF отбора\n",
        "> - max_features - значение максимального признака отбора\n",
        "> - ngram_range - нижняя и верхняя границы диапазона поиска $n$-значений для $n$-грамм "
      ],
      "metadata": {
        "id": "7bWTCF1c_d56"
      }
    },
    {
      "cell_type": "markdown",
      "source": [
        "**Решение задачи**\n",
        "\n",
        "Загрузим исходные данные и отобразим их в виде таблицы."
      ],
      "metadata": {
        "id": "acVRO5ms_izO"
      }
    },
    {
      "cell_type": "code",
      "source": [
        "import pandas as pd\n",
        "\n",
        "df = pd.read_csv('Reviews.csv')"
      ],
      "metadata": {
        "id": "zJUcizhK0rzd"
      },
      "execution_count": 2,
      "outputs": []
    },
    {
      "cell_type": "code",
      "source": [
        "df.head()"
      ],
      "metadata": {
        "id": "vLGt91lr1uv3",
        "colab": {
          "base_uri": "https://localhost:8080/",
          "height": 337
        },
        "outputId": "f9e32cd6-d6de-4483-b146-445e5ac59e2b"
      },
      "execution_count": 3,
      "outputs": [
        {
          "output_type": "execute_result",
          "data": {
            "text/plain": [
              "   Id   ProductId          UserId                      ProfileName  \\\n",
              "0   1  B001E4KFG0  A3SGXH7AUHU8GW                       delmartian   \n",
              "1   2  B00813GRG4  A1D87F6ZCVE5NK                           dll pa   \n",
              "2   3  B000LQOCH0   ABXLMWJIXXAIN  Natalia Corres \"Natalia Corres\"   \n",
              "3   4  B000UA0QIQ  A395BORC6FGVXV                             Karl   \n",
              "4   5  B006K2ZZ7K  A1UQRSCLF8GW1T    Michael D. Bigham \"M. Wassir\"   \n",
              "\n",
              "   HelpfulnessNumerator  HelpfulnessDenominator  Score        Time  \\\n",
              "0                     1                       1      5  1303862400   \n",
              "1                     0                       0      1  1346976000   \n",
              "2                     1                       1      4  1219017600   \n",
              "3                     3                       3      2  1307923200   \n",
              "4                     0                       0      5  1350777600   \n",
              "\n",
              "                 Summary                                               Text  \n",
              "0  Good Quality Dog Food  I have bought several of the Vitality canned d...  \n",
              "1      Not as Advertised  Product arrived labeled as Jumbo Salted Peanut...  \n",
              "2  \"Delight\" says it all  This is a confection that has been around a fe...  \n",
              "3         Cough Medicine  If you are looking for the secret ingredient i...  \n",
              "4            Great taffy  Great taffy at a great price.  There was a wid...  "
            ],
            "text/html": [
              "\n",
              "  <div id=\"df-efe26960-b621-4d3d-a159-fe09f4a6c552\">\n",
              "    <div class=\"colab-df-container\">\n",
              "      <div>\n",
              "<style scoped>\n",
              "    .dataframe tbody tr th:only-of-type {\n",
              "        vertical-align: middle;\n",
              "    }\n",
              "\n",
              "    .dataframe tbody tr th {\n",
              "        vertical-align: top;\n",
              "    }\n",
              "\n",
              "    .dataframe thead th {\n",
              "        text-align: right;\n",
              "    }\n",
              "</style>\n",
              "<table border=\"1\" class=\"dataframe\">\n",
              "  <thead>\n",
              "    <tr style=\"text-align: right;\">\n",
              "      <th></th>\n",
              "      <th>Id</th>\n",
              "      <th>ProductId</th>\n",
              "      <th>UserId</th>\n",
              "      <th>ProfileName</th>\n",
              "      <th>HelpfulnessNumerator</th>\n",
              "      <th>HelpfulnessDenominator</th>\n",
              "      <th>Score</th>\n",
              "      <th>Time</th>\n",
              "      <th>Summary</th>\n",
              "      <th>Text</th>\n",
              "    </tr>\n",
              "  </thead>\n",
              "  <tbody>\n",
              "    <tr>\n",
              "      <th>0</th>\n",
              "      <td>1</td>\n",
              "      <td>B001E4KFG0</td>\n",
              "      <td>A3SGXH7AUHU8GW</td>\n",
              "      <td>delmartian</td>\n",
              "      <td>1</td>\n",
              "      <td>1</td>\n",
              "      <td>5</td>\n",
              "      <td>1303862400</td>\n",
              "      <td>Good Quality Dog Food</td>\n",
              "      <td>I have bought several of the Vitality canned d...</td>\n",
              "    </tr>\n",
              "    <tr>\n",
              "      <th>1</th>\n",
              "      <td>2</td>\n",
              "      <td>B00813GRG4</td>\n",
              "      <td>A1D87F6ZCVE5NK</td>\n",
              "      <td>dll pa</td>\n",
              "      <td>0</td>\n",
              "      <td>0</td>\n",
              "      <td>1</td>\n",
              "      <td>1346976000</td>\n",
              "      <td>Not as Advertised</td>\n",
              "      <td>Product arrived labeled as Jumbo Salted Peanut...</td>\n",
              "    </tr>\n",
              "    <tr>\n",
              "      <th>2</th>\n",
              "      <td>3</td>\n",
              "      <td>B000LQOCH0</td>\n",
              "      <td>ABXLMWJIXXAIN</td>\n",
              "      <td>Natalia Corres \"Natalia Corres\"</td>\n",
              "      <td>1</td>\n",
              "      <td>1</td>\n",
              "      <td>4</td>\n",
              "      <td>1219017600</td>\n",
              "      <td>\"Delight\" says it all</td>\n",
              "      <td>This is a confection that has been around a fe...</td>\n",
              "    </tr>\n",
              "    <tr>\n",
              "      <th>3</th>\n",
              "      <td>4</td>\n",
              "      <td>B000UA0QIQ</td>\n",
              "      <td>A395BORC6FGVXV</td>\n",
              "      <td>Karl</td>\n",
              "      <td>3</td>\n",
              "      <td>3</td>\n",
              "      <td>2</td>\n",
              "      <td>1307923200</td>\n",
              "      <td>Cough Medicine</td>\n",
              "      <td>If you are looking for the secret ingredient i...</td>\n",
              "    </tr>\n",
              "    <tr>\n",
              "      <th>4</th>\n",
              "      <td>5</td>\n",
              "      <td>B006K2ZZ7K</td>\n",
              "      <td>A1UQRSCLF8GW1T</td>\n",
              "      <td>Michael D. Bigham \"M. Wassir\"</td>\n",
              "      <td>0</td>\n",
              "      <td>0</td>\n",
              "      <td>5</td>\n",
              "      <td>1350777600</td>\n",
              "      <td>Great taffy</td>\n",
              "      <td>Great taffy at a great price.  There was a wid...</td>\n",
              "    </tr>\n",
              "  </tbody>\n",
              "</table>\n",
              "</div>\n",
              "      <button class=\"colab-df-convert\" onclick=\"convertToInteractive('df-efe26960-b621-4d3d-a159-fe09f4a6c552')\"\n",
              "              title=\"Convert this dataframe to an interactive table.\"\n",
              "              style=\"display:none;\">\n",
              "        \n",
              "  <svg xmlns=\"http://www.w3.org/2000/svg\" height=\"24px\"viewBox=\"0 0 24 24\"\n",
              "       width=\"24px\">\n",
              "    <path d=\"M0 0h24v24H0V0z\" fill=\"none\"/>\n",
              "    <path d=\"M18.56 5.44l.94 2.06.94-2.06 2.06-.94-2.06-.94-.94-2.06-.94 2.06-2.06.94zm-11 1L8.5 8.5l.94-2.06 2.06-.94-2.06-.94L8.5 2.5l-.94 2.06-2.06.94zm10 10l.94 2.06.94-2.06 2.06-.94-2.06-.94-.94-2.06-.94 2.06-2.06.94z\"/><path d=\"M17.41 7.96l-1.37-1.37c-.4-.4-.92-.59-1.43-.59-.52 0-1.04.2-1.43.59L10.3 9.45l-7.72 7.72c-.78.78-.78 2.05 0 2.83L4 21.41c.39.39.9.59 1.41.59.51 0 1.02-.2 1.41-.59l7.78-7.78 2.81-2.81c.8-.78.8-2.07 0-2.86zM5.41 20L4 18.59l7.72-7.72 1.47 1.35L5.41 20z\"/>\n",
              "  </svg>\n",
              "      </button>\n",
              "      \n",
              "  <style>\n",
              "    .colab-df-container {\n",
              "      display:flex;\n",
              "      flex-wrap:wrap;\n",
              "      gap: 12px;\n",
              "    }\n",
              "\n",
              "    .colab-df-convert {\n",
              "      background-color: #E8F0FE;\n",
              "      border: none;\n",
              "      border-radius: 50%;\n",
              "      cursor: pointer;\n",
              "      display: none;\n",
              "      fill: #1967D2;\n",
              "      height: 32px;\n",
              "      padding: 0 0 0 0;\n",
              "      width: 32px;\n",
              "    }\n",
              "\n",
              "    .colab-df-convert:hover {\n",
              "      background-color: #E2EBFA;\n",
              "      box-shadow: 0px 1px 2px rgba(60, 64, 67, 0.3), 0px 1px 3px 1px rgba(60, 64, 67, 0.15);\n",
              "      fill: #174EA6;\n",
              "    }\n",
              "\n",
              "    [theme=dark] .colab-df-convert {\n",
              "      background-color: #3B4455;\n",
              "      fill: #D2E3FC;\n",
              "    }\n",
              "\n",
              "    [theme=dark] .colab-df-convert:hover {\n",
              "      background-color: #434B5C;\n",
              "      box-shadow: 0px 1px 3px 1px rgba(0, 0, 0, 0.15);\n",
              "      filter: drop-shadow(0px 1px 2px rgba(0, 0, 0, 0.3));\n",
              "      fill: #FFFFFF;\n",
              "    }\n",
              "  </style>\n",
              "\n",
              "      <script>\n",
              "        const buttonEl =\n",
              "          document.querySelector('#df-efe26960-b621-4d3d-a159-fe09f4a6c552 button.colab-df-convert');\n",
              "        buttonEl.style.display =\n",
              "          google.colab.kernel.accessAllowed ? 'block' : 'none';\n",
              "\n",
              "        async function convertToInteractive(key) {\n",
              "          const element = document.querySelector('#df-efe26960-b621-4d3d-a159-fe09f4a6c552');\n",
              "          const dataTable =\n",
              "            await google.colab.kernel.invokeFunction('convertToInteractive',\n",
              "                                                     [key], {});\n",
              "          if (!dataTable) return;\n",
              "\n",
              "          const docLinkHtml = 'Like what you see? Visit the ' +\n",
              "            '<a target=\"_blank\" href=https://colab.research.google.com/notebooks/data_table.ipynb>data table notebook</a>'\n",
              "            + ' to learn more about interactive tables.';\n",
              "          element.innerHTML = '';\n",
              "          dataTable['output_type'] = 'display_data';\n",
              "          await google.colab.output.renderOutput(dataTable, element);\n",
              "          const docLink = document.createElement('div');\n",
              "          docLink.innerHTML = docLinkHtml;\n",
              "          element.appendChild(docLink);\n",
              "        }\n",
              "      </script>\n",
              "    </div>\n",
              "  </div>\n",
              "  "
            ]
          },
          "metadata": {},
          "execution_count": 3
        }
      ]
    },
    {
      "cell_type": "markdown",
      "source": [
        "Найдем самые важные слова в документе, используя меру TF-IDF. С этой техникой мы можем оценить вес частоты терминов (TF) и обратную частотность документа (IDF). У каждого слова свои собственные значения TF и IDF. Перемножив эти значения, мы получаем вес слова.\n"
      ],
      "metadata": {
        "id": "DHKsgFjQ7LXq"
      }
    },
    {
      "cell_type": "code",
      "source": [
        "from sklearn.feature_extraction.text import TfidfVectorizer\n",
        "#Переводим колонку с текстом отзыва в матрицу работы TF-IDF\n",
        "tfidf = TfidfVectorizer()\n",
        "tfidf.fit(df['Text'])"
      ],
      "metadata": {
        "id": "TIoXLj-C7QM5",
        "colab": {
          "base_uri": "https://localhost:8080/"
        },
        "outputId": "56cf15f6-aa1d-4fd7-8482-0c624fc7be69"
      },
      "execution_count": 25,
      "outputs": [
        {
          "output_type": "execute_result",
          "data": {
            "text/plain": [
              "TfidfVectorizer()"
            ]
          },
          "metadata": {},
          "execution_count": 25
        }
      ]
    },
    {
      "cell_type": "code",
      "source": [
        "X = tfidf.transform(df['Text'])"
      ],
      "metadata": {
        "id": "LXFLSIik7Wyj"
      },
      "execution_count": 26,
      "outputs": []
    },
    {
      "cell_type": "markdown",
      "source": [
        "Рассмотрим текст отзыва с идентификатором строки 1."
      ],
      "metadata": {
        "id": "7-8CAYEdot_V"
      }
    },
    {
      "cell_type": "code",
      "source": [
        "df['Text'][1]"
      ],
      "metadata": {
        "id": "6FhZCIq37ZdY",
        "colab": {
          "base_uri": "https://localhost:8080/",
          "height": 53
        },
        "outputId": "18ad2fe6-d4c5-42cd-b00c-0b00c8bcab9e"
      },
      "execution_count": 27,
      "outputs": [
        {
          "output_type": "execute_result",
          "data": {
            "text/plain": [
              "'Product arrived labeled as Jumbo Salted Peanuts...the peanuts were actually small sized unsalted. Not sure if this was an error or if the vendor intended to represent the product as \"Jumbo\".'"
            ],
            "application/vnd.google.colaboratory.intrinsic+json": {
              "type": "string"
            }
          },
          "metadata": {},
          "execution_count": 27
        }
      ]
    },
    {
      "cell_type": "markdown",
      "source": [
        "Рассчитаем веса некоторых слов этого отзыва:"
      ],
      "metadata": {
        "id": "HtPZh7Zf7c3V"
      }
    },
    {
      "cell_type": "code",
      "source": [
        "print([X[1, tfidf.vocabulary_['peanuts']]])"
      ],
      "metadata": {
        "id": "6yD4PSDQ7sbs",
        "colab": {
          "base_uri": "https://localhost:8080/"
        },
        "outputId": "f23d9a0f-4f05-4069-ab39-02de31137f49"
      },
      "execution_count": 36,
      "outputs": [
        {
          "output_type": "stream",
          "name": "stdout",
          "text": [
            "[0.3799545149651174]\n"
          ]
        }
      ]
    },
    {
      "cell_type": "code",
      "source": [
        "print([X[1, tfidf.vocabulary_['jumbo']]])"
      ],
      "metadata": {
        "id": "8jF-_uhP7q15",
        "colab": {
          "base_uri": "https://localhost:8080/"
        },
        "outputId": "ae80f468-64a5-451e-e75c-6aaa452bde45"
      },
      "execution_count": 29,
      "outputs": [
        {
          "output_type": "stream",
          "name": "stdout",
          "text": [
            "[0.530967029980943]\n"
          ]
        }
      ]
    },
    {
      "cell_type": "code",
      "source": [
        "print([X[1, tfidf.vocabulary_['salted']]])"
      ],
      "metadata": {
        "id": "BlGpyMgI7db4",
        "colab": {
          "base_uri": "https://localhost:8080/"
        },
        "outputId": "e34de43b-3e14-4693-c912-ccee4b8ff63d"
      },
      "execution_count": 31,
      "outputs": [
        {
          "output_type": "stream",
          "name": "stdout",
          "text": [
            "[0.20916110234565194]\n"
          ]
        }
      ]
    },
    {
      "cell_type": "markdown",
      "source": [
        "Среди этих трех слов, \"peanuts\", \"jumbo\" и \"salted\", TF-IDF выдает наибольший вес слову \"jumbo\". Таким образом с помощью TF-IDF можно находить важные слова или термины внутри коллекции документов."
      ],
      "metadata": {
        "id": "aqa_OVC47yZc"
      }
    },
    {
      "cell_type": "markdown",
      "source": [
        "Теперь проанализируем тональность текста (Sentiment analysis). Для этого уберем нейтральную оценку отзыва (3), и сгруппируем оценки 4 и 5 как положительные (1), а 1 и 2 как отрицательные (0)."
      ],
      "metadata": {
        "id": "-6wbvLuN724d"
      }
    },
    {
      "cell_type": "code",
      "source": [
        "import numpy as np\n",
        "\n",
        "df.dropna(inplace=True)\n",
        "df[df['Score'] != 3]\n",
        "df['Positivity'] = np.where(df['Score'] > 3, 1, 0)\n",
        "cols = ['Id', 'ProductId', 'UserId', 'ProfileName', 'HelpfulnessNumerator', 'HelpfulnessDenominator', 'Score', 'Time', 'Summary']\n",
        "df.drop(cols, axis=1, inplace=True)\n",
        "df.head()"
      ],
      "metadata": {
        "id": "cwMe0ev774jv",
        "colab": {
          "base_uri": "https://localhost:8080/",
          "height": 206
        },
        "outputId": "7d13706f-2aab-4b95-dd5c-f3cf34678f89"
      },
      "execution_count": 10,
      "outputs": [
        {
          "output_type": "execute_result",
          "data": {
            "text/plain": [
              "                                                Text  Positivity\n",
              "0  I have bought several of the Vitality canned d...           1\n",
              "1  Product arrived labeled as Jumbo Salted Peanut...           0\n",
              "2  This is a confection that has been around a fe...           1\n",
              "3  If you are looking for the secret ingredient i...           0\n",
              "4  Great taffy at a great price.  There was a wid...           1"
            ],
            "text/html": [
              "\n",
              "  <div id=\"df-8b4703c2-b70c-4dce-8b2d-a027927b23c6\">\n",
              "    <div class=\"colab-df-container\">\n",
              "      <div>\n",
              "<style scoped>\n",
              "    .dataframe tbody tr th:only-of-type {\n",
              "        vertical-align: middle;\n",
              "    }\n",
              "\n",
              "    .dataframe tbody tr th {\n",
              "        vertical-align: top;\n",
              "    }\n",
              "\n",
              "    .dataframe thead th {\n",
              "        text-align: right;\n",
              "    }\n",
              "</style>\n",
              "<table border=\"1\" class=\"dataframe\">\n",
              "  <thead>\n",
              "    <tr style=\"text-align: right;\">\n",
              "      <th></th>\n",
              "      <th>Text</th>\n",
              "      <th>Positivity</th>\n",
              "    </tr>\n",
              "  </thead>\n",
              "  <tbody>\n",
              "    <tr>\n",
              "      <th>0</th>\n",
              "      <td>I have bought several of the Vitality canned d...</td>\n",
              "      <td>1</td>\n",
              "    </tr>\n",
              "    <tr>\n",
              "      <th>1</th>\n",
              "      <td>Product arrived labeled as Jumbo Salted Peanut...</td>\n",
              "      <td>0</td>\n",
              "    </tr>\n",
              "    <tr>\n",
              "      <th>2</th>\n",
              "      <td>This is a confection that has been around a fe...</td>\n",
              "      <td>1</td>\n",
              "    </tr>\n",
              "    <tr>\n",
              "      <th>3</th>\n",
              "      <td>If you are looking for the secret ingredient i...</td>\n",
              "      <td>0</td>\n",
              "    </tr>\n",
              "    <tr>\n",
              "      <th>4</th>\n",
              "      <td>Great taffy at a great price.  There was a wid...</td>\n",
              "      <td>1</td>\n",
              "    </tr>\n",
              "  </tbody>\n",
              "</table>\n",
              "</div>\n",
              "      <button class=\"colab-df-convert\" onclick=\"convertToInteractive('df-8b4703c2-b70c-4dce-8b2d-a027927b23c6')\"\n",
              "              title=\"Convert this dataframe to an interactive table.\"\n",
              "              style=\"display:none;\">\n",
              "        \n",
              "  <svg xmlns=\"http://www.w3.org/2000/svg\" height=\"24px\"viewBox=\"0 0 24 24\"\n",
              "       width=\"24px\">\n",
              "    <path d=\"M0 0h24v24H0V0z\" fill=\"none\"/>\n",
              "    <path d=\"M18.56 5.44l.94 2.06.94-2.06 2.06-.94-2.06-.94-.94-2.06-.94 2.06-2.06.94zm-11 1L8.5 8.5l.94-2.06 2.06-.94-2.06-.94L8.5 2.5l-.94 2.06-2.06.94zm10 10l.94 2.06.94-2.06 2.06-.94-2.06-.94-.94-2.06-.94 2.06-2.06.94z\"/><path d=\"M17.41 7.96l-1.37-1.37c-.4-.4-.92-.59-1.43-.59-.52 0-1.04.2-1.43.59L10.3 9.45l-7.72 7.72c-.78.78-.78 2.05 0 2.83L4 21.41c.39.39.9.59 1.41.59.51 0 1.02-.2 1.41-.59l7.78-7.78 2.81-2.81c.8-.78.8-2.07 0-2.86zM5.41 20L4 18.59l7.72-7.72 1.47 1.35L5.41 20z\"/>\n",
              "  </svg>\n",
              "      </button>\n",
              "      \n",
              "  <style>\n",
              "    .colab-df-container {\n",
              "      display:flex;\n",
              "      flex-wrap:wrap;\n",
              "      gap: 12px;\n",
              "    }\n",
              "\n",
              "    .colab-df-convert {\n",
              "      background-color: #E8F0FE;\n",
              "      border: none;\n",
              "      border-radius: 50%;\n",
              "      cursor: pointer;\n",
              "      display: none;\n",
              "      fill: #1967D2;\n",
              "      height: 32px;\n",
              "      padding: 0 0 0 0;\n",
              "      width: 32px;\n",
              "    }\n",
              "\n",
              "    .colab-df-convert:hover {\n",
              "      background-color: #E2EBFA;\n",
              "      box-shadow: 0px 1px 2px rgba(60, 64, 67, 0.3), 0px 1px 3px 1px rgba(60, 64, 67, 0.15);\n",
              "      fill: #174EA6;\n",
              "    }\n",
              "\n",
              "    [theme=dark] .colab-df-convert {\n",
              "      background-color: #3B4455;\n",
              "      fill: #D2E3FC;\n",
              "    }\n",
              "\n",
              "    [theme=dark] .colab-df-convert:hover {\n",
              "      background-color: #434B5C;\n",
              "      box-shadow: 0px 1px 3px 1px rgba(0, 0, 0, 0.15);\n",
              "      filter: drop-shadow(0px 1px 2px rgba(0, 0, 0, 0.3));\n",
              "      fill: #FFFFFF;\n",
              "    }\n",
              "  </style>\n",
              "\n",
              "      <script>\n",
              "        const buttonEl =\n",
              "          document.querySelector('#df-8b4703c2-b70c-4dce-8b2d-a027927b23c6 button.colab-df-convert');\n",
              "        buttonEl.style.display =\n",
              "          google.colab.kernel.accessAllowed ? 'block' : 'none';\n",
              "\n",
              "        async function convertToInteractive(key) {\n",
              "          const element = document.querySelector('#df-8b4703c2-b70c-4dce-8b2d-a027927b23c6');\n",
              "          const dataTable =\n",
              "            await google.colab.kernel.invokeFunction('convertToInteractive',\n",
              "                                                     [key], {});\n",
              "          if (!dataTable) return;\n",
              "\n",
              "          const docLinkHtml = 'Like what you see? Visit the ' +\n",
              "            '<a target=\"_blank\" href=https://colab.research.google.com/notebooks/data_table.ipynb>data table notebook</a>'\n",
              "            + ' to learn more about interactive tables.';\n",
              "          element.innerHTML = '';\n",
              "          dataTable['output_type'] = 'display_data';\n",
              "          await google.colab.output.renderOutput(dataTable, element);\n",
              "          const docLink = document.createElement('div');\n",
              "          docLink.innerHTML = docLinkHtml;\n",
              "          element.appendChild(docLink);\n",
              "        }\n",
              "      </script>\n",
              "    </div>\n",
              "  </div>\n",
              "  "
            ]
          },
          "metadata": {},
          "execution_count": 10
        }
      ]
    },
    {
      "cell_type": "markdown",
      "source": [
        "Количество отрицательных и положительных отзывов: "
      ],
      "metadata": {
        "id": "S7Gm_7Gln9FS"
      }
    },
    {
      "cell_type": "code",
      "source": [
        "df.groupby('Positivity').size()"
      ],
      "metadata": {
        "id": "Zi3np1s78AJq",
        "colab": {
          "base_uri": "https://localhost:8080/"
        },
        "outputId": "0de53a75-7104-4a7b-e9cf-7bfee615e7e1"
      },
      "execution_count": 11,
      "outputs": [
        {
          "output_type": "execute_result",
          "data": {
            "text/plain": [
              "Positivity\n",
              "0    124645\n",
              "1    443766\n",
              "dtype: int64"
            ]
          },
          "metadata": {},
          "execution_count": 11
        }
      ]
    },
    {
      "cell_type": "markdown",
      "source": [
        "Разделим датасет на train и test и оценим количество положительных и отрицательных отзывов в каждом из отдельных сетов."
      ],
      "metadata": {
        "id": "3oXkjjph8Kku"
      }
    },
    {
      "cell_type": "code",
      "source": [
        "X = df.Text\n",
        "y = df.Positivity\n",
        "\n",
        "from sklearn.model_selection import train_test_split\n",
        "\n",
        "X_train, X_test, y_train, y_test = train_test_split(X, y, random_state = 0)\n",
        "\n",
        "\n",
        "print(\"Train сет включает в себя {0} вхождений, {1:.2f}% из которых отрицальные, а {2:.2f}% положительные\".format(len(X_train),\n",
        "                                                                             (len(X_train[y_train == 0]) / (len(X_train)*1.))*100,\n",
        "                                                                            (len(X_train[y_train == 1]) / (len(X_train)*1.))*100))"
      ],
      "metadata": {
        "id": "UqSCSFkb8Gum",
        "colab": {
          "base_uri": "https://localhost:8080/"
        },
        "outputId": "63c38e93-22d1-4d26-98c7-98b7c5835b47"
      },
      "execution_count": 37,
      "outputs": [
        {
          "output_type": "stream",
          "name": "stdout",
          "text": [
            "Train сет включает в себя 426308 вхождений, 21.91% из которых отрицальные, а 78.09% положительные\n"
          ]
        }
      ]
    },
    {
      "cell_type": "code",
      "source": [
        "print(\"Test сет включает в себя {0} вхождений, {1:.2f}% из которых отрицальные, а {2:.2f}% положительные\".format(len(X_test),\n",
        "                                                                             (len(X_test[y_test == 0]) / (len(X_test)*1.))*100,\n",
        "                                                                            (len(X_test[y_test == 1]) / (len(X_test)*1.))*100))"
      ],
      "metadata": {
        "id": "bkzaq7cs8mil",
        "colab": {
          "base_uri": "https://localhost:8080/"
        },
        "outputId": "ef2f5f49-1b6e-4abe-8210-2b0499a430c7"
      },
      "execution_count": 38,
      "outputs": [
        {
          "output_type": "stream",
          "name": "stdout",
          "text": [
            "Test сет включает в себя 142103 вхождений, 21.99% из которых отрицальные, а 78.01% положительные\n"
          ]
        }
      ]
    },
    {
      "cell_type": "markdown",
      "source": [
        "**Визуализация результата**\n",
        "\n",
        "Проведем отбор признаков по критерию хи-квадрат (Chi2 Feature Selection). Данный критерий используется для категориальных признаков в датасете. Мы вычисляем хи-квадрат между каждым признаком и целью, после выбираем желаемое количество \"признаков\" с лучшими показателями. С помощью TF-IDF, критерий хи-квадрат может найти наиболее часто встречающиеся важные слова и фразы в коллекции."
      ],
      "metadata": {
        "id": "fgxCFy4F_l_k"
      }
    },
    {
      "cell_type": "code",
      "source": [
        "from sklearn.feature_selection import chi2\n",
        "\n",
        "tfidf = TfidfVectorizer(max_features=30000,ngram_range=(1, 3))\n",
        "X_tfidf = tfidf.fit_transform(df.Text)\n",
        "y = df.Positivity\n",
        "chi2score = chi2(X_tfidf, y)[0]"
      ],
      "metadata": {
        "id": "lAcj-sq29BcP"
      },
      "execution_count": 21,
      "outputs": []
    },
    {
      "cell_type": "code",
      "source": [
        "import matplotlib.pyplot as plt\n",
        "%matplotlib inline\n",
        "\n",
        "plt.figure(figsize=(12,8))\n",
        "scores = list(zip(tfidf.get_feature_names(), chi2score))\n",
        "chi2 = sorted(scores, key=lambda x:x[1])\n",
        "topchi2 = list(zip(*chi2[-20:]))\n",
        "x = range(len(topchi2[1]))\n",
        "labels = topchi2[0]\n",
        "plt.barh(x,topchi2[1], align='center', alpha=0.5)\n",
        "plt.plot(topchi2[1], x, '-o', markersize=5, alpha=0.8)\n",
        "plt.yticks(x, labels)\n",
        "plt.xlabel('$\\chi^2$')\n",
        "plt.show();"
      ],
      "metadata": {
        "id": "p5m_7sxI9D3F",
        "colab": {
          "base_uri": "https://localhost:8080/",
          "height": 558
        },
        "outputId": "73ba2a7f-6277-4471-c0b4-49b264bae296"
      },
      "execution_count": 22,
      "outputs": [
        {
          "output_type": "stream",
          "name": "stderr",
          "text": [
            "/usr/local/lib/python3.7/dist-packages/sklearn/utils/deprecation.py:87: FutureWarning: Function get_feature_names is deprecated; get_feature_names is deprecated in 1.0 and will be removed in 1.2. Please use get_feature_names_out instead.\n",
            "  warnings.warn(msg, category=FutureWarning)\n"
          ]
        },
        {
          "output_type": "display_data",
          "data": {
            "text/plain": [
              "<Figure size 864x576 with 1 Axes>"
            ],
            "image/png": "[encoded data removed]"
          },
          "metadata": {
            "needs_background": "light"
          }
        }
      ]
    },
    {
      "cell_type": "markdown",
      "source": [
        "**Интерпретация результата**\n",
        "\n",
        "С помощью латентно-семантического анализа в коллекции отзывов были найдены наиболее часто встречающиеся слова, а также совершена классификация отзывов по тональности. Несмотря на превышающее число положительных отзывов, наиболее часто встречающимися словами стали not (не), disappointed (разочарован), very disappointed (очень разочарован), not buy (не куплю)."
      ],
      "metadata": {
        "id": "Ves9W-8J_or1"
      }
    },
    {
      "cell_type": "markdown",
      "source": [
        "**Задания для самостоятельной работы**\n",
        "\n",
        "С помощью LSA определите темы для документов:\n",
        "1. doc1=\"Mango and starberries are sweet\"\n",
        "2. doc2=\"Science is her favorite subject\"\n",
        "3. doc3=\"Mathematics is an important subject\"\n",
        "4. doc4=\"Lemons and oranges are sour\"\n",
        "5. doc5=\"Algorithms and databases are tough\"\n",
        "\n",
        "Чтобы уменьшить размерность используйте усеченный SVD.\n"
      ],
      "metadata": {
        "id": "2yv3dWNs_q7L"
      }
    }
  ]
}