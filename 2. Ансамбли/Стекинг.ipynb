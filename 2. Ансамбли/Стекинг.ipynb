{
  "nbformat": 4,
  "nbformat_minor": 0,
  "metadata": {
    "colab": {
      "name": "Стекинг.ipynb",
      "provenance": [],
      "collapsed_sections": []
    },
    "kernelspec": {
      "name": "python3",
      "display_name": "Python 3"
    },
    "language_info": {
      "name": "python"
    }
  },
  "cells": [
    {
      "cell_type": "markdown",
      "source": [
        "**Стекинг**"
      ],
      "metadata": {
        "id": "_pjZUNkmP7DK"
      }
    },
    {
      "cell_type": "markdown",
      "source": [
        "Стекинг – алгоритм ансамблирования, основные отличия которого от беггинга, случайного леса и бустинга состоят в следующем:\n",
        "\n",
        "- он может использовать алгоритмы разного типа, а не только из какого-то фиксированного семейства. Например, в качестве базовых алгоритмов могут выступать метод ближайших соседей и линейная регрессия\n",
        "- результаты базовых алгоритмов объединяются в один с помощью обучаемой мета-модели, а не с помощью какого-либо обычного способа агрегации (суммирования или усреднения)\n",
        "\n",
        "Обучение стекинга проходит в несколько этапов:\n",
        "1. общая выборка разделяется на тренировочную и тестовую\n",
        "\n",
        "2. тренировочная выборка делится на $n$ фолдов. Затем эти фолды перебираются тем же способом, что используется при кросс-валидации: на каждом шаге фиксируются $(n−1)$ фолдов для обучения базовых алгоритмов и один – для их предсказаний (вычисления мета-факторов). Такой подход нужен для того, чтобы можно было использовать всё тренировочное множество, и при этом базовые алгоритмы не переобучались\n",
        "\n",
        "Самым простым примером стекинга является блендинг. Блендинг представляет из себя \"мета-алгоритм\", предсказание которого строится как взвешенная сумма базовых алгоритмов."
      ],
      "metadata": {
        "id": "SXgBPTFcSxWh"
      }
    },
    {
      "cell_type": "markdown",
      "source": [
        "**Постановка задачи**\n",
        "\n",
        "Применить блендинг для бустинга и линейной регрессии.\n"
      ],
      "metadata": {
        "id": "mfCyWBJRP_aP"
      }
    },
    {
      "cell_type": "markdown",
      "source": [
        "**Описание структуры исходных данных**\n",
        "\n",
        "Как было сказано ранее частным случаем стекинга является блендинг, в котором мета-алгоритм является линейным:\n",
        "![формула.png](data:image/png;base64,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)\n",
        "\n",
        "Это самый простой способ объединить несколько алгоритмов в композицию. Иногда даже блендинг без обучения весов(то есть вариант с $w_1 = ... = w_n = 1/N$) позволяет улучшить качество по сравнению с отдельными базовыми алгоритмами. Для простоты воспользуемся этим вариантом.\n"
      ],
      "metadata": {
        "id": "oJBzftJKQziF"
      }
    },
    {
      "cell_type": "markdown",
      "source": [
        "**Описание используемых функций и их параметров**\n",
        "\n",
        "pandas.DataFrame(data=None, columns=None) - создает дата фрейм\n",
        "\n",
        ">- data - двумерный массив с данными.\n",
        ">- columns - название столбцов.\n",
        "\n",
        "sklearn.model_selection.train_test_split(arrays1, arrays2, test_size=None, random_state=None, stratify=None)\n",
        "\n",
        ">- arrays1 - образец набора функций для разделения.\n",
        ">- arrays2 - образец результата, который нужно разделить.\n",
        ">- test_size - доля выборок, если это целое число, это количество выборок.\n",
        ">- random_state - это начальное число случайного числа.\n",
        "\n",
        "def rmse(y_true, y_pred) - функция рассчитывающая среднеквадратичную ошибку(расстояние между двумя точками)\n",
        "\n",
        ">- y_true - 1 точка\n",
        ">- y_pred - 2 точка\n",
        "\n",
        "StandardScaler() - создаёт объект функции StandardScaler()\n",
        "\n",
        "object.fit_transform(data) - преобразует данные таким образом, что его распределение будет иметь среднее значение 0 и стандартное отклонение 1\n",
        "\n",
        ">- data - двумерный массив с данными.\n",
        "\n",
        "object.fit_transform(data) - Стандартизирует данные\n",
        "\n",
        ">- data - двумерный массив с данными.\n",
        "\n",
        "def select_weights(y_true, y_pred_1, y_pred_2) - функция, которая находит взвешенную сумму базовых алгоритмов."
      ],
      "metadata": {
        "id": "k5addKcCQ4WX"
      }
    },
    {
      "cell_type": "markdown",
      "source": [
        "**Решение задачи**"
      ],
      "metadata": {
        "id": "GO0Xgw9HQ6Np"
      }
    },
    {
      "cell_type": "code",
      "source": [
        "from sklearn.datasets import fetch_california_housing\n",
        "%matplotlib inline\n",
        "import numpy as np\n",
        "import matplotlib.pyplot as plt\n",
        "import pandas as pd\n",
        "from sklearn.datasets import make_classification\n",
        "from matplotlib.colors import ListedColormap\n",
        "from sklearn.model_selection import train_test_split\n",
        "from sklearn.metrics import roc_auc_score\n",
        "from sklearn.linear_model import LinearRegression\n",
        "from sklearn.preprocessing import StandardScaler\n",
        "\n",
        "#!pip install catboost\n",
        "from catboost import CatBoostRegressor\n",
        "\n",
        "# Загружаем набор данных\n",
        "data = fetch_california_housing()\n",
        "\n",
        "# Считываем DataFrame \n",
        "X = pd.DataFrame(data.data, columns=data.feature_names)\n",
        "y = data.target\n",
        "\n",
        "# Делим на обучающие и тестовые\n",
        "X_train, X_test, y_train, y_test = train_test_split(X, y, test_size=0.3, random_state=10)\n",
        "\n",
        "# функция расчета среднеквадратичной ошибки\n",
        "def rmse(y_true, y_pred):\n",
        "    error = (y_true - y_pred) ** 2\n",
        "    return np.sqrt(np.mean(error))\n",
        "\n",
        "# Инициализация модели\n",
        "cbm = CatBoostRegressor(iterations=100, max_depth=4, learning_rate=0.01, loss_function='RMSE', logging_level='Silent')\n",
        "# Обучение модели\n",
        "cbm.fit(X_train, y_train)\n",
        "\n",
        "# Рассчет точности\n",
        "y_pred_cbm = cbm.predict(X_test)\n",
        "y_train_pred_cbm = cbm.predict(X_train)\n",
        "\n",
        "# Масштабирование данных\n",
        "scaler = StandardScaler()\n",
        "X_train_scaled = scaler.fit_transform(X_train)\n",
        "X_test_scaled = scaler.transform(X_test)\n",
        "\n",
        "# Инициализация модели\n",
        "lr = LinearRegression()\n",
        "# Обучение модели\n",
        "lr.fit(X_train_scaled, y_train)\n",
        "# Рассчет точности\n",
        "y_pred_lr = lr.predict(X_test_scaled)\n",
        "y_train_pred_lr = lr.predict(X_train_scaled)\n",
        "\n",
        "def select_weights(y_true, y_pred_1, y_pred_2):\n",
        "    grid = np.linspace(0, 1, 1000)\n",
        "    metric = []\n",
        "    for w_0 in grid:\n",
        "        w_1 = 1 - w_0\n",
        "        y_a = w_0 * y_pred_1 + w_1 * y_pred_2\n",
        "        metric.append([rmse(y_true, y_a), w_0, w_1])\n",
        "    return metric\n",
        "  \n",
        "rmse_blending_train, w_0, w_1 = min(select_weights(y_train, y_train_pred_cbm, y_train_pred_lr), key=lambda x: x[0])\n",
        "rmse(y_test, y_pred_cbm * w_0 +  y_pred_lr * w_1)"
      ],
      "metadata": {
        "id": "b37-ENu0jMCE",
        "colab": {
          "base_uri": "https://localhost:8080/"
        },
        "outputId": "b78bc055-77d9-4b5b-d510-df8bb0fbbdbd"
      },
      "execution_count": null,
      "outputs": [
        {
          "output_type": "execute_result",
          "data": {
            "text/plain": [
              "0.7255682914828336"
            ]
          },
          "metadata": {},
          "execution_count": 14
        }
      ]
    },
    {
      "cell_type": "markdown",
      "source": [
        "**Визуализация результата**"
      ],
      "metadata": {
        "id": "ZLjFtHc-RBYS"
      }
    },
    {
      "cell_type": "code",
      "source": [
        "print(\"Train RMSE GB = %.4f\" % rmse(y_train, y_train_pred_cbm))\n",
        "print(\"Test RMSE GB = %.4f\" % rmse(y_test, y_pred_cbm))\n",
        "print(\"Train RMSE LR = %.4f\" % rmse(y_train, y_train_pred_lr))\n",
        "print(\"Test RMSE LR = %.4f\" % rmse(y_test, y_pred_lr))\n",
        "print(\"\\n\")\n",
        "print(\"Train RMSE BL = %.4f\" % rmse_blending_train)\n",
        "print(\"Test RMSE BL = %.4f\" % rmse(y_test, y_pred_cbm * w_0 +  y_pred_lr * w_1))"
      ],
      "metadata": {
        "colab": {
          "base_uri": "https://localhost:8080/"
        },
        "id": "DCcsmAvt-bxV",
        "outputId": "e9c171fb-e348-4afa-d6b8-7795a25db96e"
      },
      "execution_count": null,
      "outputs": [
        {
          "output_type": "stream",
          "name": "stdout",
          "text": [
            "Train RMSE GB = 0.8162\n",
            "Test RMSE GB = 0.8272\n",
            "Train RMSE LR = 0.7168\n",
            "Test RMSE LR = 0.7443\n",
            "\n",
            "\n",
            "Train RMSE BL = 0.7053\n",
            "Test RMSE BL = 0.7256\n"
          ]
        }
      ]
    },
    {
      "cell_type": "markdown",
      "source": [
        "**Интерпретация результата**\n",
        "\n",
        "Полученный результат означает, что блендинг без обучения весов позволяет улучшить качество по сравнению с отдельными базовыми алгоритмами."
      ],
      "metadata": {
        "id": "Z66qfPu9RFoX"
      }
    },
    {
      "cell_type": "markdown",
      "source": [
        "**Задания для самостоятельной работы**\n",
        "\n",
        "1. Применить блендинг для логистической и линейной регрессии.\n",
        "2. Применить блендинг для логистической регрессии и бустинга."
      ],
      "metadata": {
        "id": "7iOFeU78RMKy"
      }
    }
  ]
}